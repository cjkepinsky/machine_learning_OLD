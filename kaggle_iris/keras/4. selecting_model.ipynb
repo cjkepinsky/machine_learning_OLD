{
 "cells": [
  {
   "cell_type": "code",
   "execution_count": 27,
   "metadata": {
    "collapsed": true,
    "pycharm": {
     "name": "#%%\n"
    }
   },
   "outputs": [
    {
     "data": {
      "text/plain": "   SepalLengthCm  SepalWidthCm  PetalLengthCm  PetalWidthCm\n0       0.222222      0.625000       0.067797      0.041667\n1       0.166667      0.416667       0.067797      0.041667\n2       0.111111      0.500000       0.050847      0.041667\n3       0.083333      0.458333       0.084746      0.041667\n4       0.194444      0.666667       0.067797      0.041667",
      "text/html": "<div>\n<style scoped>\n    .dataframe tbody tr th:only-of-type {\n        vertical-align: middle;\n    }\n\n    .dataframe tbody tr th {\n        vertical-align: top;\n    }\n\n    .dataframe thead th {\n        text-align: right;\n    }\n</style>\n<table border=\"1\" class=\"dataframe\">\n  <thead>\n    <tr style=\"text-align: right;\">\n      <th></th>\n      <th>SepalLengthCm</th>\n      <th>SepalWidthCm</th>\n      <th>PetalLengthCm</th>\n      <th>PetalWidthCm</th>\n    </tr>\n  </thead>\n  <tbody>\n    <tr>\n      <th>0</th>\n      <td>0.222222</td>\n      <td>0.625000</td>\n      <td>0.067797</td>\n      <td>0.041667</td>\n    </tr>\n    <tr>\n      <th>1</th>\n      <td>0.166667</td>\n      <td>0.416667</td>\n      <td>0.067797</td>\n      <td>0.041667</td>\n    </tr>\n    <tr>\n      <th>2</th>\n      <td>0.111111</td>\n      <td>0.500000</td>\n      <td>0.050847</td>\n      <td>0.041667</td>\n    </tr>\n    <tr>\n      <th>3</th>\n      <td>0.083333</td>\n      <td>0.458333</td>\n      <td>0.084746</td>\n      <td>0.041667</td>\n    </tr>\n    <tr>\n      <th>4</th>\n      <td>0.194444</td>\n      <td>0.666667</td>\n      <td>0.067797</td>\n      <td>0.041667</td>\n    </tr>\n  </tbody>\n</table>\n</div>"
     },
     "execution_count": 27,
     "metadata": {},
     "output_type": "execute_result"
    }
   ],
   "source": [
    "from constants import source_path, target_name, x_path, y_path\n",
    "import pandas as pd\n",
    "from tensorflow.keras import layers\n",
    "\n",
    "X = pd.read_csv(x_path)\n",
    "y = pd.read_csv(y_path)[target_name]\n",
    "\n",
    "# X = X.drop([\"0\"], axis=1)\n",
    "\n",
    "X.head()"
   ]
  },
  {
   "cell_type": "code",
   "execution_count": 45,
   "outputs": [
    {
     "name": "stdout",
     "output_type": "stream",
     "text": [
      "[4]\n",
      "(90, 4)\n"
     ]
    }
   ],
   "source": [
    "from sklearn.model_selection import train_test_split\n",
    "from tensorflow.keras.callbacks import EarlyStopping\n",
    "\n",
    "# patience below 7 cuts to early\n",
    "early_stopping = EarlyStopping(\n",
    "    min_delta=0.001, # minimium amount of change to count as an improvement\n",
    "    patience=7, # how many epochs to wait before stopping\n",
    "    restore_best_weights=True,\n",
    ")\n",
    "X_train, X_valid, y_train, y_valid = train_test_split(X, y, train_size=0.6, random_state=0)\n",
    "\n",
    "input_shape = [X_train.shape[1]]\n",
    "print(input_shape)\n",
    "print(X_train.shape)"
   ],
   "metadata": {
    "collapsed": false,
    "pycharm": {
     "name": "#%%\n"
    }
   }
  },
  {
   "cell_type": "code",
   "execution_count": 46,
   "outputs": [
    {
     "name": "stdout",
     "output_type": "stream",
     "text": [
      "--- Multiplier: 1\n",
      "Epoch 1/50\n"
     ]
    },
    {
     "name": "stderr",
     "output_type": "stream",
     "text": [
      "2022-07-28 10:07:14.587293: I tensorflow/core/grappler/optimizers/custom_graph_optimizer_registry.cc:113] Plugin optimizer for device_type GPU is enabled.\n"
     ]
    },
    {
     "name": "stdout",
     "output_type": "stream",
     "text": [
      "1/1 [==============================] - 1s 1s/step - loss: 4.4779 - accuracy: 0.0000e+00 - val_loss: 4.5620 - val_accuracy: 0.0000e+00\n",
      "Epoch 2/50\n",
      "1/1 [==============================] - 0s 67ms/step - loss: 4.1080 - accuracy: 0.0000e+00 - val_loss: 3.8899 - val_accuracy: 0.0000e+00\n",
      "Epoch 3/50\n"
     ]
    },
    {
     "name": "stderr",
     "output_type": "stream",
     "text": [
      "2022-07-28 10:07:15.072462: I tensorflow/core/grappler/optimizers/custom_graph_optimizer_registry.cc:113] Plugin optimizer for device_type GPU is enabled.\n"
     ]
    },
    {
     "name": "stdout",
     "output_type": "stream",
     "text": [
      "1/1 [==============================] - 0s 52ms/step - loss: 3.4693 - accuracy: 0.0000e+00 - val_loss: 2.6520 - val_accuracy: 0.0000e+00\n",
      "Epoch 4/50\n",
      "1/1 [==============================] - 0s 49ms/step - loss: 2.3004 - accuracy: 0.0000e+00 - val_loss: 0.8957 - val_accuracy: 0.2500\n",
      "Epoch 5/50\n",
      "1/1 [==============================] - 0s 42ms/step - loss: 0.6824 - accuracy: 0.3444 - val_loss: 0.4715 - val_accuracy: 0.2667\n",
      "Epoch 6/50\n",
      "1/1 [==============================] - 0s 38ms/step - loss: 0.5341 - accuracy: 0.3778 - val_loss: 0.8808 - val_accuracy: 0.2667\n",
      "Epoch 7/50\n",
      "1/1 [==============================] - 0s 65ms/step - loss: 0.9874 - accuracy: 0.3778 - val_loss: 0.1900 - val_accuracy: 0.2667\n",
      "Epoch 8/50\n",
      "1/1 [==============================] - 0s 38ms/step - loss: 0.1843 - accuracy: 0.3778 - val_loss: 0.2487 - val_accuracy: 0.2667\n",
      "Epoch 9/50\n",
      "1/1 [==============================] - 0s 34ms/step - loss: 0.1422 - accuracy: 0.3778 - val_loss: 0.5765 - val_accuracy: 0.2667\n",
      "Epoch 10/50\n",
      "1/1 [==============================] - 0s 41ms/step - loss: 0.4158 - accuracy: 0.3778 - val_loss: 0.7219 - val_accuracy: 0.2667\n",
      "Epoch 11/50\n",
      "1/1 [==============================] - 0s 42ms/step - loss: 0.5468 - accuracy: 0.3667 - val_loss: 0.6345 - val_accuracy: 0.2667\n",
      "Epoch 12/50\n",
      "1/1 [==============================] - 0s 26ms/step - loss: 0.4731 - accuracy: 0.3778 - val_loss: 0.4016 - val_accuracy: 0.2667\n",
      "Epoch 13/50\n",
      "1/1 [==============================] - 0s 37ms/step - loss: 0.2747 - accuracy: 0.3778 - val_loss: 0.1726 - val_accuracy: 0.2667\n",
      "Epoch 14/50\n",
      "1/1 [==============================] - 0s 30ms/step - loss: 0.0931 - accuracy: 0.3778 - val_loss: 0.1167 - val_accuracy: 0.2667\n",
      "Epoch 15/50\n",
      "1/1 [==============================] - 0s 38ms/step - loss: 0.0846 - accuracy: 0.3778 - val_loss: 0.2438 - val_accuracy: 0.2667\n",
      "Epoch 16/50\n",
      "1/1 [==============================] - 0s 35ms/step - loss: 0.2418 - accuracy: 0.3778 - val_loss: 0.2958 - val_accuracy: 0.2667\n",
      "Epoch 17/50\n",
      "1/1 [==============================] - 0s 30ms/step - loss: 0.2983 - accuracy: 0.3778 - val_loss: 0.1857 - val_accuracy: 0.2667\n",
      "Epoch 18/50\n",
      "1/1 [==============================] - 0s 36ms/step - loss: 0.1739 - accuracy: 0.3778 - val_loss: 0.0993 - val_accuracy: 0.2667\n",
      "Epoch 19/50\n",
      "1/1 [==============================] - 0s 25ms/step - loss: 0.0640 - accuracy: 0.3778 - val_loss: 0.1267 - val_accuracy: 0.2667\n",
      "Epoch 20/50\n",
      "1/1 [==============================] - 0s 28ms/step - loss: 0.0671 - accuracy: 0.3778 - val_loss: 0.2069 - val_accuracy: 0.2667\n",
      "Epoch 21/50\n",
      "1/1 [==============================] - 0s 33ms/step - loss: 0.1297 - accuracy: 0.3778 - val_loss: 0.2596 - val_accuracy: 0.2667\n",
      "Epoch 22/50\n",
      "1/1 [==============================] - 0s 23ms/step - loss: 0.1750 - accuracy: 0.3778 - val_loss: 0.2501 - val_accuracy: 0.2667\n",
      "Epoch 23/50\n",
      "1/1 [==============================] - 0s 35ms/step - loss: 0.1686 - accuracy: 0.3778 - val_loss: 0.1899 - val_accuracy: 0.2667\n",
      "Epoch 24/50\n",
      "1/1 [==============================] - 0s 30ms/step - loss: 0.1200 - accuracy: 0.3778 - val_loss: 0.1197 - val_accuracy: 0.2667\n",
      "Epoch 25/50\n",
      "1/1 [==============================] - 0s 32ms/step - loss: 0.0660 - accuracy: 0.3778 - val_loss: 0.0858 - val_accuracy: 0.2667\n",
      "Epoch 26/50\n",
      "1/1 [==============================] - 0s 25ms/step - loss: 0.0479 - accuracy: 0.3778 - val_loss: 0.1029 - val_accuracy: 0.2667\n",
      "Epoch 27/50\n",
      "1/1 [==============================] - 0s 24ms/step - loss: 0.0761 - accuracy: 0.3778 - val_loss: 0.1337 - val_accuracy: 0.2667\n",
      "Epoch 28/50\n",
      "1/1 [==============================] - 0s 28ms/step - loss: 0.1115 - accuracy: 0.3778 - val_loss: 0.1312 - val_accuracy: 0.2667\n",
      "Epoch 29/50\n",
      "1/1 [==============================] - 0s 29ms/step - loss: 0.1084 - accuracy: 0.3778 - val_loss: 0.1008 - val_accuracy: 0.2667\n",
      "Epoch 30/50\n",
      "1/1 [==============================] - 0s 35ms/step - loss: 0.0734 - accuracy: 0.3778 - val_loss: 0.0821 - val_accuracy: 0.2667\n",
      "Epoch 31/50\n",
      "1/1 [==============================] - 0s 26ms/step - loss: 0.0472 - accuracy: 0.3778 - val_loss: 0.0931 - val_accuracy: 0.2667\n",
      "Epoch 32/50\n",
      "1/1 [==============================] - 0s 23ms/step - loss: 0.0497 - accuracy: 0.3778 - val_loss: 0.1186 - val_accuracy: 0.2667\n",
      "Epoch 33/50\n",
      "1/1 [==============================] - 0s 31ms/step - loss: 0.0683 - accuracy: 0.3778 - val_loss: 0.1344 - val_accuracy: 0.2667\n",
      "Epoch 34/50\n",
      "1/1 [==============================] - 0s 25ms/step - loss: 0.0810 - accuracy: 0.3778 - val_loss: 0.1288 - val_accuracy: 0.2667\n",
      "Epoch 35/50\n",
      "1/1 [==============================] - 0s 23ms/step - loss: 0.0766 - accuracy: 0.3778 - val_loss: 0.1074 - val_accuracy: 0.2667\n",
      "Epoch 36/50\n",
      "1/1 [==============================] - 0s 23ms/step - loss: 0.0599 - accuracy: 0.3778 - val_loss: 0.0865 - val_accuracy: 0.2667\n",
      "Epoch 37/50\n",
      "1/1 [==============================] - 0s 31ms/step - loss: 0.0453 - accuracy: 0.3778 - val_loss: 0.0800 - val_accuracy: 0.2667\n",
      "Epoch 38/50\n",
      "1/1 [==============================] - 0s 27ms/step - loss: 0.0445 - accuracy: 0.3778 - val_loss: 0.0870 - val_accuracy: 0.2667\n",
      "Epoch 39/50\n",
      "1/1 [==============================] - 0s 33ms/step - loss: 0.0552 - accuracy: 0.3778 - val_loss: 0.0935 - val_accuracy: 0.2667\n",
      "Epoch 40/50\n",
      "1/1 [==============================] - 0s 39ms/step - loss: 0.0631 - accuracy: 0.3778 - val_loss: 0.0898 - val_accuracy: 0.2667\n",
      "Epoch 41/50\n",
      "1/1 [==============================] - 0s 31ms/step - loss: 0.0586 - accuracy: 0.3778 - val_loss: 0.0813 - val_accuracy: 0.2667\n",
      "Epoch 42/50\n",
      "1/1 [==============================] - 0s 39ms/step - loss: 0.0475 - accuracy: 0.3778 - val_loss: 0.0792 - val_accuracy: 0.2667\n",
      "Epoch 43/50\n",
      "1/1 [==============================] - 0s 31ms/step - loss: 0.0417 - accuracy: 0.3778 - val_loss: 0.0860 - val_accuracy: 0.2667\n",
      "Epoch 44/50\n",
      "1/1 [==============================] - 0s 36ms/step - loss: 0.0448 - accuracy: 0.3778 - val_loss: 0.0946 - val_accuracy: 0.2667\n",
      "Minimum Validation Loss: 0.0792\n",
      "--- Multiplier: 2\n",
      "Epoch 1/50\n"
     ]
    },
    {
     "name": "stderr",
     "output_type": "stream",
     "text": [
      "2022-07-28 10:07:17.232161: I tensorflow/core/grappler/optimizers/custom_graph_optimizer_registry.cc:113] Plugin optimizer for device_type GPU is enabled.\n"
     ]
    },
    {
     "name": "stdout",
     "output_type": "stream",
     "text": [
      "1/1 [==============================] - 1s 873ms/step - loss: 4.4788 - accuracy: 0.0000e+00 - val_loss: 4.2883 - val_accuracy: 0.0000e+00\n",
      "Epoch 2/50\n",
      "1/1 [==============================] - 0s 68ms/step - loss: 3.8466 - accuracy: 0.0000e+00 - val_loss: 2.1360 - val_accuracy: 0.0667\n",
      "Epoch 3/50\n"
     ]
    },
    {
     "name": "stderr",
     "output_type": "stream",
     "text": [
      "2022-07-28 10:07:17.633661: I tensorflow/core/grappler/optimizers/custom_graph_optimizer_registry.cc:113] Plugin optimizer for device_type GPU is enabled.\n"
     ]
    },
    {
     "name": "stdout",
     "output_type": "stream",
     "text": [
      "1/1 [==============================] - 0s 72ms/step - loss: 1.8122 - accuracy: 0.0333 - val_loss: 0.5712 - val_accuracy: 0.2667\n",
      "Epoch 4/50\n",
      "1/1 [==============================] - 0s 55ms/step - loss: 0.6625 - accuracy: 0.3778 - val_loss: 0.1420 - val_accuracy: 0.2667\n",
      "Epoch 5/50\n",
      "1/1 [==============================] - 0s 35ms/step - loss: 0.1032 - accuracy: 0.3778 - val_loss: 0.4585 - val_accuracy: 0.2667\n",
      "Epoch 6/50\n",
      "1/1 [==============================] - 0s 47ms/step - loss: 0.3079 - accuracy: 0.3778 - val_loss: 0.4210 - val_accuracy: 0.2667\n",
      "Epoch 7/50\n",
      "1/1 [==============================] - 0s 49ms/step - loss: 0.2817 - accuracy: 0.3778 - val_loss: 0.1280 - val_accuracy: 0.2667\n",
      "Epoch 8/50\n",
      "1/1 [==============================] - 0s 37ms/step - loss: 0.0680 - accuracy: 0.3778 - val_loss: 0.2467 - val_accuracy: 0.2667\n",
      "Epoch 9/50\n",
      "1/1 [==============================] - 0s 39ms/step - loss: 0.2584 - accuracy: 0.3778 - val_loss: 0.1429 - val_accuracy: 0.2667\n",
      "Epoch 10/50\n",
      "1/1 [==============================] - 0s 43ms/step - loss: 0.1305 - accuracy: 0.3778 - val_loss: 0.1420 - val_accuracy: 0.2667\n",
      "Epoch 11/50\n",
      "1/1 [==============================] - 0s 41ms/step - loss: 0.0763 - accuracy: 0.3778 - val_loss: 0.2659 - val_accuracy: 0.2667\n",
      "Epoch 12/50\n",
      "1/1 [==============================] - 0s 28ms/step - loss: 0.1748 - accuracy: 0.3778 - val_loss: 0.2159 - val_accuracy: 0.2667\n",
      "Epoch 13/50\n",
      "1/1 [==============================] - 0s 39ms/step - loss: 0.1367 - accuracy: 0.3778 - val_loss: 0.0961 - val_accuracy: 0.2667\n",
      "Epoch 14/50\n",
      "1/1 [==============================] - 0s 35ms/step - loss: 0.0510 - accuracy: 0.3778 - val_loss: 0.1220 - val_accuracy: 0.2667\n",
      "Epoch 15/50\n",
      "1/1 [==============================] - 0s 29ms/step - loss: 0.1053 - accuracy: 0.3778 - val_loss: 0.1371 - val_accuracy: 0.2667\n",
      "Epoch 16/50\n",
      "1/1 [==============================] - 0s 40ms/step - loss: 0.1222 - accuracy: 0.3778 - val_loss: 0.0816 - val_accuracy: 0.2667\n",
      "Epoch 17/50\n",
      "1/1 [==============================] - 0s 37ms/step - loss: 0.0485 - accuracy: 0.3778 - val_loss: 0.1230 - val_accuracy: 0.2667\n",
      "Epoch 18/50\n",
      "1/1 [==============================] - 0s 38ms/step - loss: 0.0684 - accuracy: 0.3778 - val_loss: 0.1638 - val_accuracy: 0.2667\n",
      "Epoch 19/50\n",
      "1/1 [==============================] - 0s 86ms/step - loss: 0.1007 - accuracy: 0.3778 - val_loss: 0.1246 - val_accuracy: 0.2667\n",
      "Epoch 20/50\n",
      "1/1 [==============================] - 0s 50ms/step - loss: 0.0696 - accuracy: 0.3778 - val_loss: 0.0791 - val_accuracy: 0.2667\n",
      "Epoch 21/50\n",
      "1/1 [==============================] - 0s 40ms/step - loss: 0.0401 - accuracy: 0.3778 - val_loss: 0.0977 - val_accuracy: 0.2667\n",
      "Epoch 22/50\n",
      "1/1 [==============================] - 0s 33ms/step - loss: 0.0698 - accuracy: 0.3778 - val_loss: 0.1011 - val_accuracy: 0.2667\n",
      "Epoch 23/50\n",
      "1/1 [==============================] - 0s 39ms/step - loss: 0.0731 - accuracy: 0.3778 - val_loss: 0.0770 - val_accuracy: 0.2667\n",
      "Epoch 24/50\n",
      "1/1 [==============================] - 0s 29ms/step - loss: 0.0407 - accuracy: 0.3778 - val_loss: 0.0952 - val_accuracy: 0.2667\n",
      "Epoch 25/50\n",
      "1/1 [==============================] - 0s 31ms/step - loss: 0.0483 - accuracy: 0.3778 - val_loss: 0.1167 - val_accuracy: 0.2667\n",
      "Epoch 26/50\n",
      "1/1 [==============================] - 0s 27ms/step - loss: 0.0653 - accuracy: 0.3778 - val_loss: 0.0982 - val_accuracy: 0.2667\n",
      "Epoch 27/50\n",
      "1/1 [==============================] - 0s 37ms/step - loss: 0.0515 - accuracy: 0.3778 - val_loss: 0.0744 - val_accuracy: 0.2667\n",
      "Epoch 28/50\n",
      "1/1 [==============================] - 0s 32ms/step - loss: 0.0366 - accuracy: 0.3778 - val_loss: 0.0818 - val_accuracy: 0.2667\n",
      "Epoch 29/50\n",
      "1/1 [==============================] - 0s 40ms/step - loss: 0.0501 - accuracy: 0.3778 - val_loss: 0.0843 - val_accuracy: 0.2667\n",
      "Epoch 30/50\n",
      "1/1 [==============================] - 0s 91ms/step - loss: 0.0534 - accuracy: 0.3778 - val_loss: 0.0718 - val_accuracy: 0.2667\n",
      "Epoch 31/50\n",
      "1/1 [==============================] - 0s 37ms/step - loss: 0.0377 - accuracy: 0.3778 - val_loss: 0.0793 - val_accuracy: 0.2667\n",
      "Epoch 32/50\n",
      "1/1 [==============================] - 0s 33ms/step - loss: 0.0405 - accuracy: 0.3778 - val_loss: 0.0905 - val_accuracy: 0.2667\n",
      "Epoch 33/50\n",
      "1/1 [==============================] - 0s 31ms/step - loss: 0.0495 - accuracy: 0.3778 - val_loss: 0.0812 - val_accuracy: 0.2667\n",
      "Epoch 34/50\n",
      "1/1 [==============================] - 0s 48ms/step - loss: 0.0426 - accuracy: 0.3778 - val_loss: 0.0700 - val_accuracy: 0.2667\n",
      "Epoch 35/50\n",
      "1/1 [==============================] - 0s 35ms/step - loss: 0.0358 - accuracy: 0.3778 - val_loss: 0.0750 - val_accuracy: 0.2667\n",
      "Epoch 36/50\n",
      "1/1 [==============================] - 0s 35ms/step - loss: 0.0432 - accuracy: 0.3778 - val_loss: 0.0755 - val_accuracy: 0.2667\n",
      "Epoch 37/50\n",
      "1/1 [==============================] - 0s 31ms/step - loss: 0.0437 - accuracy: 0.3778 - val_loss: 0.0700 - val_accuracy: 0.2667\n",
      "Epoch 38/50\n",
      "1/1 [==============================] - 0s 29ms/step - loss: 0.0360 - accuracy: 0.3778 - val_loss: 0.0759 - val_accuracy: 0.2667\n",
      "Epoch 39/50\n",
      "1/1 [==============================] - 0s 28ms/step - loss: 0.0388 - accuracy: 0.3778 - val_loss: 0.0810 - val_accuracy: 0.2667\n",
      "Epoch 40/50\n",
      "1/1 [==============================] - 0s 29ms/step - loss: 0.0425 - accuracy: 0.3778 - val_loss: 0.0747 - val_accuracy: 0.2667\n",
      "Epoch 41/50\n",
      "1/1 [==============================] - 0s 42ms/step - loss: 0.0378 - accuracy: 0.3778 - val_loss: 0.0707 - val_accuracy: 0.2667\n",
      "Minimum Validation Loss: 0.0700\n",
      "--- Multiplier: 3\n",
      "Epoch 1/50\n"
     ]
    },
    {
     "name": "stderr",
     "output_type": "stream",
     "text": [
      "2022-07-28 10:07:19.921287: I tensorflow/core/grappler/optimizers/custom_graph_optimizer_registry.cc:113] Plugin optimizer for device_type GPU is enabled.\n"
     ]
    },
    {
     "name": "stdout",
     "output_type": "stream",
     "text": [
      "1/1 [==============================] - 1s 870ms/step - loss: 4.4789 - accuracy: 0.0000e+00 - val_loss: 3.9731 - val_accuracy: 0.0000e+00\n",
      "Epoch 2/50\n",
      "1/1 [==============================] - ETA: 0s - loss: 3.5477 - accuracy: 0.0000e+00"
     ]
    },
    {
     "name": "stderr",
     "output_type": "stream",
     "text": [
      "2022-07-28 10:07:20.360982: I tensorflow/core/grappler/optimizers/custom_graph_optimizer_registry.cc:113] Plugin optimizer for device_type GPU is enabled.\n"
     ]
    },
    {
     "name": "stdout",
     "output_type": "stream",
     "text": [
      "1/1 [==============================] - 0s 58ms/step - loss: 3.5477 - accuracy: 0.0000e+00 - val_loss: 0.1875 - val_accuracy: 0.2667\n",
      "Epoch 3/50\n",
      "1/1 [==============================] - 0s 49ms/step - loss: 0.1049 - accuracy: 0.3667 - val_loss: 36.1132 - val_accuracy: 0.2667\n",
      "Epoch 4/50\n",
      "1/1 [==============================] - 0s 46ms/step - loss: 37.3804 - accuracy: 0.3778 - val_loss: 0.2823 - val_accuracy: 0.2667\n",
      "Epoch 5/50\n",
      "1/1 [==============================] - 0s 44ms/step - loss: 0.3211 - accuracy: 0.3778 - val_loss: 2.2590 - val_accuracy: 0.0000e+00\n",
      "Epoch 6/50\n",
      "1/1 [==============================] - 0s 39ms/step - loss: 1.9381 - accuracy: 0.0111 - val_loss: 3.8601 - val_accuracy: 0.0000e+00\n",
      "Epoch 7/50\n",
      "1/1 [==============================] - 0s 39ms/step - loss: 3.4470 - accuracy: 0.0000e+00 - val_loss: 4.2540 - val_accuracy: 0.0000e+00\n",
      "Epoch 8/50\n",
      "1/1 [==============================] - 0s 38ms/step - loss: 3.8210 - accuracy: 0.0000e+00 - val_loss: 4.2827 - val_accuracy: 0.0000e+00\n",
      "Epoch 9/50\n",
      "1/1 [==============================] - 0s 43ms/step - loss: 3.8486 - accuracy: 0.0000e+00 - val_loss: 4.1825 - val_accuracy: 0.0000e+00\n",
      "Minimum Validation Loss: 0.1875\n"
     ]
    },
    {
     "data": {
      "text/plain": "<Figure size 432x288 with 1 Axes>",
      "image/png": "[encoded data removed]"
     },
     "metadata": {
      "needs_background": "light"
     },
     "output_type": "display_data"
    },
    {
     "data": {
      "text/plain": "<Figure size 432x288 with 1 Axes>",
      "image/png": "[encoded data removed]"
     },
     "metadata": {
      "needs_background": "light"
     },
     "output_type": "display_data"
    },
    {
     "data": {
      "text/plain": "<Figure size 432x288 with 1 Axes>",
      "image/png": "[encoded data removed]"
     },
     "metadata": {
      "needs_background": "light"
     },
     "output_type": "display_data"
    }
   ],
   "source": [
    "from tensorflow import keras\n",
    "\n",
    "# initially I got val loss 0.07 because Id column present. After removing it I got 0.13\n",
    "# Then I experimented with optimizers, loss and activation functions and the number of layers and neurons and finally got it back to 0.0700\n",
    "\n",
    "activation_function = 'swish'\n",
    "multipliers = [1, 2, 3]\n",
    "\n",
    "for multiplier in multipliers:\n",
    "    print(\"--- Multiplier:\", multiplier)\n",
    "    model = keras.Sequential([\n",
    "        layers.Dense(multiplier*256, activation=activation_function, input_shape=input_shape),\n",
    "        layers.Dense(multiplier*512, activation=activation_function),\n",
    "        layers.Dense(multiplier*512, activation=activation_function),\n",
    "        layers.Dense(multiplier*512, activation=activation_function),\n",
    "        layers.Dense(multiplier*512, activation=activation_function),\n",
    "        layers.Dense(multiplier*256, activation=activation_function),\n",
    "        layers.Dense(1)\n",
    "    ])\n",
    "\n",
    "    model.compile(\n",
    "       optimizer='adam',\n",
    "       # optimizer='adadelta',\n",
    "       #  loss='mae',\n",
    "       loss='mean_squared_error',\n",
    "       # metrics=['categorical_accuracy']\n",
    "       # metrics=['sparse_categorical_accuracy']\n",
    "       metrics=['accuracy']\n",
    "    )\n",
    "    history = model.fit(\n",
    "        X_train, y_train,\n",
    "        validation_data=(X_valid, y_valid),\n",
    "        batch_size=128,\n",
    "        epochs=50,\n",
    "        callbacks=[early_stopping]\n",
    "    )\n",
    "    # print(model.summary())\n",
    "    history_df = pd.DataFrame(history.history)\n",
    "    history_df.loc[:, ['loss', 'val_loss']].plot()\n",
    "    print(\"Minimum Validation Loss: {:0.4f}\".format(history_df['val_loss'].min()));"
   ],
   "metadata": {
    "collapsed": false,
    "pycharm": {
     "name": "#%%\n"
    }
   }
  },
  {
   "cell_type": "code",
   "execution_count": 47,
   "outputs": [
    {
     "data": {
      "text/plain": "<Figure size 432x288 with 1 Axes>",
      "image/png": "[encoded data removed]"
     },
     "metadata": {
      "needs_background": "light"
     },
     "output_type": "display_data"
    }
   ],
   "source": [
    "# Loss:\n",
    "import pandas as pd\n",
    "\n",
    "# convert the training history to a dataframe\n",
    "history_df = pd.DataFrame(history.history)\n",
    "# use Pandas native plot method\n",
    "# history_df['loss'].plot();\n",
    "history_df.loc[10:, ['loss']].plot();"
   ],
   "metadata": {
    "collapsed": false,
    "pycharm": {
     "name": "#%%\n"
    }
   }
  },
  {
   "cell_type": "code",
   "execution_count": 9,
   "outputs": [
    {
     "name": "stdout",
     "output_type": "stream",
     "text": [
      "2.9.2\n"
     ]
    },
    {
     "data": {
      "text/plain": "<Figure size 600x400 with 1 Axes>",
      "image/png": "[encoded data removed]"
     },
     "metadata": {
      "needs_background": "light"
     },
     "output_type": "display_data"
    }
   ],
   "source": [
    "# Change 'relu' to 'elu', 'selu', 'swish'... or something else\n",
    "# How different activation functions look like\n",
    "\n",
    "import tensorflow as tf\n",
    "import matplotlib.pyplot as plt\n",
    "\n",
    "print(tf.__version__)\n",
    "\n",
    "activation_layer = layers.Activation('swish')\n",
    "\n",
    "x = tf.linspace(-3.0, 3.0, 100)\n",
    "y = activation_layer(x) # once created, a layer is callable just like a function\n",
    "\n",
    "plt.figure(dpi=100)\n",
    "plt.plot(x, y)\n",
    "plt.xlim(-3, 3)\n",
    "plt.xlabel(\"Input\")\n",
    "plt.ylabel(\"Output\")\n",
    "plt.show()"
   ],
   "metadata": {
    "collapsed": false,
    "pycharm": {
     "name": "#%%\n"
    }
   }
  }
 ],
 "metadata": {
  "kernelspec": {
   "name": "env",
   "language": "python",
   "display_name": "env"
  },
  "language_info": {
   "codemirror_mode": {
    "name": "ipython",
    "version": 2
   },
   "file_extension": ".py",
   "mimetype": "text/x-python",
   "name": "python",
   "nbconvert_exporter": "python",
   "pygments_lexer": "ipython2",
   "version": "2.7.6"
  }
 },
 "nbformat": 4,
 "nbformat_minor": 0
}