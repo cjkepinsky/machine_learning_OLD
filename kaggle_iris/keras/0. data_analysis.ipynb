{
 "cells": [
  {
   "cell_type": "code",
   "execution_count": null,
   "metadata": {
    "pycharm": {
     "name": "#%%\n",
     "is_executing": true
    }
   },
   "outputs": [],
   "source": [
    "import pyforest\n",
    "from libs.simple_analyzer import print_analytics, print_simple_correlations\n",
    "from constants import source_path, target_name\n",
    "import pandas as pd # data processing, CSV file I/O (e.g. pd.read_csv)\n",
    "\n",
    "DATA = pd.read_csv(source_path)\n",
    "\n",
    "print_analytics(DATA, target_name)"
   ]
  },
  {
   "cell_type": "code",
   "execution_count": 2,
   "metadata": {
    "pycharm": {
     "name": "#%%\n"
    }
   },
   "outputs": [
    {
     "name": "stdout",
     "output_type": "stream",
     "text": [
      "Correlations >= 0.3:\n",
      "\n",
      "Id:\n",
      "\n",
      "SepalLengthCm:\n",
      " - Id: 0.72\n",
      "\n",
      "SepalWidthCm:\n",
      " - Id: -0.40\n",
      "\n",
      "PetalLengthCm:\n",
      " - Id: 0.88\n",
      " - SepalLengthCm: 0.87\n",
      " - SepalWidthCm: -0.42\n",
      "\n",
      "PetalWidthCm:\n",
      " - Id: 0.90\n",
      " - SepalLengthCm: 0.82\n",
      " - SepalWidthCm: -0.36\n",
      " - PetalLengthCm: 0.96\n",
      "Done\n"
     ]
    }
   ],
   "source": [
    "print_simple_correlations(DATA)"
   ]
  },
  {
   "cell_type": "code",
   "execution_count": 3,
   "metadata": {
    "pycharm": {
     "name": "#%%\n"
    }
   },
   "outputs": [
    {
     "data": {
      "application/vnd.jupyter.widget-view+json": {
       "model_id": "84ec0f0ad1a847798fca3c65c2f08d37",
       "version_major": 2,
       "version_minor": 0
      },
      "text/plain": [
       "MitoWidget(analysis_data_json='{\"analysisName\": \"id-tismifpnoq\", \"analysisToReplay\": {\"analysisName\": \"id-mrqh…"
      ]
     },
     "metadata": {},
     "output_type": "display_data"
    }
   ],
   "source": [
    "import mitosheet\n",
    "mitosheet.sheet(analysis_to_replay=\"id-mrqhnkshhm\")"
   ]
  },
  {
   "cell_type": "code",
   "execution_count": 4,
   "metadata": {
    "pycharm": {
     "name": "#%%\n"
    }
   },
   "outputs": [
    {
     "data": {
      "text/html": [
       "<iframe\n",
       "    scrolling=\"no\"\n",
       "    width=\"100%\"\n",
       "    height=\"545px\"\n",
       "    src=\"iframe_figures/figure_4.html\"\n",
       "    frameborder=\"0\"\n",
       "    allowfullscreen\n",
       "></iframe>\n"
      ]
     },
     "metadata": {},
     "output_type": "display_data"
    }
   ],
   "source": [
    "import plotly.express as px\n",
    "import pandas as pd\n",
    "Iris = pd.read_csv(r'/Users/kkepins-macwro_1/git/machine_learning/iris/input/Iris.csv')\n",
    "# Construct the graph and style it. Further customize your graph by editing this code.\n",
    "# See Plotly Documentation for help: https://plotly.com/python/plotly-express/\n",
    "fig = px.histogram(Iris, x='Species', y='PetalLengthCm', color='PetalWidthCm')\n",
    "fig.update_layout(\n",
    "    title='Species, PetalLengthCm histogram',\n",
    "    xaxis = dict(\n",
    "        rangeslider = dict(\n",
    "            visible=True,\n",
    "            thickness=0.05\n",
    "        )\n",
    "    ),\n",
    "    yaxis = dict(\n",
    "\n",
    "    ),\n",
    "    barmode='group',\n",
    "    paper_bgcolor='#FFFFFF',\n",
    "    showlegend=True\n",
    ")\n",
    "fig.show(renderer=\"iframe\")"
   ]
  },
  {
   "cell_type": "code",
   "execution_count": 5,
   "metadata": {
    "pycharm": {
     "name": "#%%\n"
    }
   },
   "outputs": [
    {
     "name": "stderr",
     "output_type": "stream",
     "text": [
      "2022-07-02 01:50:28.524 \n",
      "  \u001B[33m\u001B[1mWarning:\u001B[0m to view this Streamlit app on a browser, run it with the following\n",
      "  command:\n",
      "\n",
      "    streamlit run /Users/kkepins-macwro_1/Library/Python/3.9/lib/python/site-packages/ipykernel_launcher.py [ARGUMENTS]\n"
     ]
    },
    {
     "data": {
      "text/plain": [
       "{'data':       Id  SepalLengthCm  SepalWidthCm  PetalLengthCm  PetalWidthCm  \\\n",
       " 0      1            5.1           3.5            1.4           0.2   \n",
       " 1      2            4.9           3.0            1.4           0.2   \n",
       " 2      3            4.7           3.2            1.3           0.2   \n",
       " 3      4            4.6           3.1            1.5           0.2   \n",
       " 4      5            5.0           3.6            1.4           0.2   \n",
       " ..   ...            ...           ...            ...           ...   \n",
       " 145  146            6.7           3.0            5.2           2.3   \n",
       " 146  147            6.3           2.5            5.0           1.9   \n",
       " 147  148            6.5           3.0            5.2           2.0   \n",
       " 148  149            6.2           3.4            5.4           2.3   \n",
       " 149  150            5.9           3.0            5.1           1.8   \n",
       " \n",
       "             Species  \n",
       " 0       Iris-setosa  \n",
       " 1       Iris-setosa  \n",
       " 2       Iris-setosa  \n",
       " 3       Iris-setosa  \n",
       " 4       Iris-setosa  \n",
       " ..              ...  \n",
       " 145  Iris-virginica  \n",
       " 146  Iris-virginica  \n",
       " 147  Iris-virginica  \n",
       " 148  Iris-virginica  \n",
       " 149  Iris-virginica  \n",
       " \n",
       " [150 rows x 6 columns],\n",
       " 'selected_rows': []}"
      ]
     },
     "execution_count": 5,
     "metadata": {},
     "output_type": "execute_result"
    }
   ],
   "source": [
    "import streamlit as st\n",
    "import pandas as pd\n",
    "import numpy as np\n",
    "from st_aggrid import GridOptionsBuilder, AgGrid, GridUpdateMode, DataReturnMode\n",
    "from constants import source_path, target_name\n",
    "import pandas as pd # data processing, CSV file I/O (e.g. pd.read_csv)\n",
    "\n",
    "DATA = pd.read_csv(source_path)\n",
    "\n",
    "# data= pd.read_csv('df_sample_data.csv', index_col=0)\n",
    "AgGrid(DATA)\n"
   ]
  },
  {
   "cell_type": "code",
   "execution_count": 6,
   "metadata": {
    "pycharm": {
     "name": "#%%\n"
    }
   },
   "outputs": [
    {
     "data": {
      "application/vnd.jupyter.widget-view+json": {
       "model_id": "cca76a84223b43f98683acaa7f116b28",
       "version_major": 2,
       "version_minor": 0
      },
      "text/plain": [
       "Button(description='Toggle Pandas/Lux', layout=Layout(top='5px', width='140px'), style=ButtonStyle())"
      ]
     },
     "metadata": {},
     "output_type": "display_data"
    },
    {
     "data": {
      "application/vnd.jupyter.widget-view+json": {
       "model_id": "a17bb0bedf6a403985f9d4296aea5a92",
       "version_major": 2,
       "version_minor": 0
      },
      "text/plain": [
       "Output()"
      ]
     },
     "metadata": {},
     "output_type": "display_data"
    }
   ],
   "source": [
    "import lux\n",
    "from constants import source_path, target_name\n",
    "import pandas as pd # data processing, CSV file I/O (e.g. pd.read_csv)\n",
    "\n",
    "DATA = pd.read_csv(source_path)\n",
    "DATA"
   ]
  },
  {
   "cell_type": "code",
   "execution_count": null,
   "metadata": {
    "pycharm": {
     "name": "#%%\n"
    }
   },
   "outputs": [],
   "source": []
  },
  {
   "cell_type": "code",
   "execution_count": null,
   "metadata": {
    "pycharm": {
     "name": "#%%\n"
    }
   },
   "outputs": [],
   "source": []
  },
  {
   "cell_type": "code",
   "execution_count": null,
   "metadata": {
    "pycharm": {
     "name": "#%%\n"
    }
   },
   "outputs": [],
   "source": []
  }
 ],
 "metadata": {
  "kernelspec": {
   "name": "ml_env",
   "language": "python",
   "display_name": "ml_env"
  },
  "language_info": {
   "codemirror_mode": {
    "name": "ipython",
    "version": 3
   },
   "file_extension": ".py",
   "mimetype": "text/x-python",
   "name": "python",
   "nbconvert_exporter": "python",
   "pygments_lexer": "ipython3",
   "version": "3.9.13"
  }
 },
 "nbformat": 4,
 "nbformat_minor": 1
}