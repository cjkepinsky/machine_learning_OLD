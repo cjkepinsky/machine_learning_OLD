{
 "cells": [
  {
   "cell_type": "code",
   "execution_count": 1,
   "metadata": {
    "collapsed": true,
    "pycharm": {
     "name": "#%%\n"
    }
   },
   "outputs": [
    {
     "name": "stdout",
     "output_type": "stream",
     "text": [
      "done\n"
     ]
    }
   ],
   "source": [
    "from libs.simple_analyzer import print_analytics, print_simple_correlations\n",
    "from libs.simpleplotter import simple_heatmap, simple_correlations\n",
    "from constants import source_path, target_name\n",
    "import pandas as pd # data processing, CSV file I/O (e.g. pd.read_csv)\n",
    "\n",
    "DATA = pd.read_csv(source_path)\n",
    "\n",
    "print(\"done\")"
   ]
  },
  {
   "cell_type": "code",
   "execution_count": 7,
   "outputs": [
    {
     "name": "stdout",
     "output_type": "stream",
     "text": [
      "      areaCode        areaName  areaType        date  cumCasesByPublishDate  \\\n",
      "0    K02000001  United Kingdom  overview  2022-06-05                    NaN   \n",
      "1    K02000001  United Kingdom  overview  2022-06-04                    NaN   \n",
      "2    K02000001  United Kingdom  overview  2022-06-03                    NaN   \n",
      "3    K02000001  United Kingdom  overview  2022-06-02                    NaN   \n",
      "4    K02000001  United Kingdom  overview  2022-06-01                    NaN   \n",
      "..         ...             ...       ...         ...                    ...   \n",
      "852  K02000001  United Kingdom  overview  2020-02-04                    2.0   \n",
      "853  K02000001  United Kingdom  overview  2020-02-03                    2.0   \n",
      "854  K02000001  United Kingdom  overview  2020-02-02                    2.0   \n",
      "855  K02000001  United Kingdom  overview  2020-02-01                    2.0   \n",
      "856  K02000001  United Kingdom  overview  2020-01-31                    2.0   \n",
      "\n",
      "     cumPeopleVaccinatedFirstDoseByPublishDate  \\\n",
      "0                                   53505425.0   \n",
      "1                                   53502797.0   \n",
      "2                                   53497176.0   \n",
      "3                                   53496143.0   \n",
      "4                                   53493877.0   \n",
      "..                                         ...   \n",
      "852                                        NaN   \n",
      "853                                        NaN   \n",
      "854                                        NaN   \n",
      "855                                        NaN   \n",
      "856                                        NaN   \n",
      "\n",
      "     cumReinfectionsBySpecimenDateRate  cumTestsByPublishDate  \\\n",
      "0                                  NaN                    NaN   \n",
      "1                                  NaN                    NaN   \n",
      "2                                  NaN                    NaN   \n",
      "3                                  NaN                    NaN   \n",
      "4                                  NaN                    NaN   \n",
      "..                                 ...                    ...   \n",
      "852                                NaN                    NaN   \n",
      "853                                NaN                    NaN   \n",
      "854                                NaN                    NaN   \n",
      "855                                NaN                    NaN   \n",
      "856                                NaN                    NaN   \n",
      "\n",
      "     cumVirusTestsByPublishDate  \n",
      "0                           NaN  \n",
      "1                           NaN  \n",
      "2                           NaN  \n",
      "3                           NaN  \n",
      "4                           NaN  \n",
      "..                          ...  \n",
      "852                         NaN  \n",
      "853                         NaN  \n",
      "854                         NaN  \n",
      "855                         NaN  \n",
      "856                         NaN  \n",
      "\n",
      "[857 rows x 9 columns]\n"
     ]
    }
   ],
   "source": [
    "print(DATA)"
   ],
   "metadata": {
    "collapsed": false,
    "pycharm": {
     "name": "#%%\n"
    }
   }
  },
  {
   "cell_type": "code",
   "execution_count": 6,
   "outputs": [
    {
     "name": "stdout",
     "output_type": "stream",
     "text": [
      "Correlations >= 0.3:\n",
      "\n",
      "cumCasesByPublishDate:\n",
      "\n",
      "cumPeopleVaccinatedFirstDoseByPublishDate:\n",
      " - cumCasesByPublishDate: 0.65\n",
      "\n",
      "cumReinfectionsBySpecimenDateRate:\n",
      " - cumCasesByPublishDate: 0.93\n",
      " - cumPeopleVaccinatedFirstDoseByPublishDate: 0.51\n",
      "\n",
      "cumTestsByPublishDate:\n",
      " - cumCasesByPublishDate: 0.96\n",
      " - cumPeopleVaccinatedFirstDoseByPublishDate: 0.85\n",
      " - cumReinfectionsBySpecimenDateRate: 0.81\n",
      "\n",
      "cumVirusTestsByPublishDate:\n",
      " - cumCasesByPublishDate: 0.96\n",
      " - cumPeopleVaccinatedFirstDoseByPublishDate: 0.85\n",
      " - cumReinfectionsBySpecimenDateRate: 0.81\n",
      " - cumTestsByPublishDate: 1.00\n",
      "Done\n"
     ]
    }
   ],
   "source": [
    "print_simple_correlations(DATA)"
   ],
   "metadata": {
    "collapsed": false,
    "pycharm": {
     "name": "#%%\n"
    }
   }
  }
 ],
 "metadata": {
  "kernelspec": {
   "display_name": "Python 3",
   "language": "python",
   "name": "python3"
  },
  "language_info": {
   "codemirror_mode": {
    "name": "ipython",
    "version": 2
   },
   "file_extension": ".py",
   "mimetype": "text/x-python",
   "name": "python",
   "nbconvert_exporter": "python",
   "pygments_lexer": "ipython2",
   "version": "2.7.6"
  }
 },
 "nbformat": 4,
 "nbformat_minor": 0
}