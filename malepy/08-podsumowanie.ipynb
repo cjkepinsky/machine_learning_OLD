{
 "cells": [
  {
   "cell_type": "code",
   "execution_count": 1,
   "metadata": {},
   "outputs": [],
   "source": [
    "from sklearn.base import BaseEstimator, TransformerMixin\n",
    "class MyTransformer(BaseEstimator, TransformerMixin):\n",
    "    def __init__(self, first_parameter=1, second_parameter=2):\n",
    "        # Wszystkie parametry muszą zostać określone w funkcji __init__\n",
    "        self.first_parameter = 1\n",
    "        self.second_parameter = 2\n",
    "    def fit(self, X, y=None):\n",
    "        # funkcja fit powinna przyjmować wyłącznie argumenty X oraz y\n",
    "        # Nawet jeśli Twój model nie jest nadzorowany, musisz przyjąć argument y!\n",
    "        # Tutaj znajduje się kod dopasowania modelu\n",
    "        print(\"dopasowywanie modelu\")\n",
    "        # funkcja fit zwraca self\n",
    "        return self\n",
    "    def transform(self, X):\n",
    "        # funkcja transform jako argument przyjmuje wyłącznie X\n",
    "        # Wykonaj jakąś transformację X\n",
    "        X_transformed = X + 1\n",
    "        return X_transformed"
   ]
  }
 ],
 "metadata": {
  "anaconda-cloud": {},
  "kernelspec": {
   "display_name": "Python 3",
   "language": "python",
   "name": "python3"
  },
  "language_info": {
   "codemirror_mode": {
    "name": "ipython",
    "version": 3
   },
   "file_extension": ".py",
   "mimetype": "text/x-python",
   "name": "python",
   "nbconvert_exporter": "python",
   "pygments_lexer": "ipython3",
   "version": "3.8.3"
  },
  "toc-autonumbering": false
 },
 "nbformat": 4,
 "nbformat_minor": 4
}
