{
 "cells": [
  {
   "cell_type": "code",
   "execution_count": 1,
   "outputs": [
    {
     "ename": "ModuleNotFoundError",
     "evalue": "No module named 'pynput'",
     "output_type": "error",
     "traceback": [
      "\u001B[0;31m---------------------------------------------------------------------------\u001B[0m",
      "\u001B[0;31mModuleNotFoundError\u001B[0m                       Traceback (most recent call last)",
      "Input \u001B[0;32mIn [1]\u001B[0m, in \u001B[0;36m<cell line: 1>\u001B[0;34m()\u001B[0m\n\u001B[0;32m----> 1\u001B[0m \u001B[38;5;28;01mfrom\u001B[39;00m \u001B[38;5;21;01mpynput\u001B[39;00m\u001B[38;5;21;01m.\u001B[39;00m\u001B[38;5;21;01mmouse\u001B[39;00m \u001B[38;5;28;01mimport\u001B[39;00m Button, Controller\n\u001B[1;32m      3\u001B[0m mouse \u001B[38;5;241m=\u001B[39m Controller()\n\u001B[1;32m      5\u001B[0m \u001B[38;5;66;03m# Read pointer position\u001B[39;00m\n",
      "\u001B[0;31mModuleNotFoundError\u001B[0m: No module named 'pynput'"
     ]
    }
   ],
   "source": [
    "from pynput.mouse import Button, Controller\n",
    "\n",
    "mouse = Controller()\n",
    "\n",
    "# Read pointer position\n",
    "print('The current pointer position is {0}'.format(\n",
    "    mouse.position))\n",
    "\n",
    "# Set pointer position\n",
    "mouse.position = (10, 20)\n",
    "print('Now we have moved it to {0}'.format(\n",
    "    mouse.position))\n",
    "\n",
    "# Move pointer relative to current position\n",
    "mouse.move(5, -5)\n",
    "\n",
    "# Press and release\n",
    "mouse.press(Button.left)\n",
    "mouse.release(Button.left)\n",
    "\n",
    "# Double click; this is different from pressing and releasing\n",
    "# twice on Mac OSX\n",
    "mouse.click(Button.left, 2)\n",
    "\n",
    "# Scroll two steps down\n",
    "mouse.scroll(0, 2)"
   ],
   "metadata": {
    "collapsed": false,
    "pycharm": {
     "name": "#%%\n"
    }
   }
  },
  {
   "cell_type": "code",
   "execution_count": null,
   "outputs": [],
   "source": [],
   "metadata": {
    "collapsed": false,
    "pycharm": {
     "name": "#%%\n"
    }
   }
  }
 ],
 "metadata": {
  "kernelspec": {
   "display_name": "Python 3",
   "language": "python",
   "name": "python3"
  },
  "language_info": {
   "codemirror_mode": {
    "name": "ipython",
    "version": 2
   },
   "file_extension": ".py",
   "mimetype": "text/x-python",
   "name": "python",
   "nbconvert_exporter": "python",
   "pygments_lexer": "ipython2",
   "version": "2.7.6"
  }
 },
 "nbformat": 4,
 "nbformat_minor": 0
}