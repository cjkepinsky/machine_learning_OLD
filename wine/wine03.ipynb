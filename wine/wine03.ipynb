{
 "cells": [
  {
   "cell_type": "raw",
   "source": [],
   "metadata": {
    "collapsed": false
   }
  },
  {
   "cell_type": "code",
   "execution_count": 4,
   "outputs": [
    {
     "name": "stdout",
     "output_type": "stream",
     "text": [
      "Done\n"
     ]
    }
   ],
   "source": [
    "# https://www.kaggle.com/uciml/red-wine-quality-cortez-et-al-2009\n",
    "import numpy as np # linear algebra\n",
    "from sklearn.model_selection import GridSearchCV\n",
    "import pandas as pd # data processing, CSV file I/O (e.g. pd.read_csv)\n",
    "# import matplotlib.pyplot as plt\n",
    "# import seaborn as sns\n",
    "from sklearn.model_selection import train_test_split\n",
    "from sklearn.ensemble import GradientBoostingClassifier\n",
    "\n",
    "DATA = pd.read_csv(\"input/data.csv\")\n",
    "target_name = 'quality'\n",
    "\n",
    "print('Done')"
   ],
   "metadata": {
    "collapsed": false,
    "pycharm": {
     "name": "#%%\n"
    }
   }
  },
  {
   "cell_type": "markdown",
   "source": [
    "\n",
    "# Exploring the Data, planning the preprocessing\n"
   ],
   "metadata": {
    "collapsed": false
   }
  },
  {
   "cell_type": "code",
   "execution_count": 5,
   "outputs": [],
   "source": [
    "from libs.simple_analyzer import print_analytics\n",
    "print_analytics(DATA, target_name)"
   ],
   "metadata": {
    "collapsed": false,
    "pycharm": {
     "name": "#%%\n"
    }
   }
  },
  {
   "cell_type": "code",
   "source": [
    "# Data Pre-processing\n",
    "from libs.simpleplotter import simple_heatmap\n",
    "from libs.simple_analyzer import simple_correlations\n",
    "simple_heatmap(DATA)\n",
    "simple_correlations(DATA)"
   ],
   "metadata": {
    "collapsed": false,
    "pycharm": {
     "name": "#%%\n"
    }
   },
   "execution_count": 6,
   "outputs": [
    {
     "name": "stdout",
     "output_type": "stream",
     "text": [
      "Correlations >= 0.3:\n",
      "\n",
      "fixed acidity:\n",
      "\n",
      "volatile acidity:\n",
      "\n",
      "citric acid:\n",
      " - fixed acidity: 0.67\n",
      " - volatile acidity: -0.55\n",
      "\n",
      "residual sugar:\n",
      "\n",
      "chlorides:\n",
      "\n",
      "free sulfur dioxide:\n",
      "\n",
      "total sulfur dioxide:\n",
      " - free sulfur dioxide: 0.67\n",
      "\n",
      "density:\n",
      " - fixed acidity: 0.67\n",
      " - citric acid: 0.36\n",
      " - residual sugar: 0.36\n",
      "\n",
      "pH:\n",
      " - fixed acidity: -0.68\n",
      " - citric acid: -0.54\n",
      " - density: -0.34\n",
      "\n",
      "sulphates:\n",
      " - citric acid: 0.31\n",
      " - chlorides: 0.37\n",
      "\n",
      "alcohol:\n",
      " - density: -0.50\n",
      "\n",
      "quality:\n",
      " - volatile acidity: -0.39\n",
      " - alcohol: 0.48\n"
     ]
    }
   ]
  },
  {
   "cell_type": "code",
   "execution_count": 7,
   "outputs": [
    {
     "name": "stdout",
     "output_type": "stream",
     "text": [
      "Done\n"
     ]
    }
   ],
   "source": [
    "# Let's run the preprocessing on both train and test data\n",
    "from libs.simple_processing import normalize, separate_target, dropna_rows, remove_columns\n",
    "\n",
    "# DATA = remove_columns(DATA, ['citric acid'])\n",
    "# DATA = remove_columns(DATA, ['density'])\n",
    "# DATA = remove_columns(DATA, ['pH'])\n",
    "\n",
    "X, y = separate_target(DATA, target_name)\n",
    "X = dropna_rows(X, X.columns)\n",
    "\n",
    "# Data Normalization\n",
    "X = normalize(X)\n",
    "# X_train.head()\n",
    "print(\"Done\")"
   ],
   "metadata": {
    "collapsed": false,
    "pycharm": {
     "name": "#%%\n"
    }
   }
  },
  {
   "cell_type": "markdown",
   "source": [
    "# Data Categorization\n"
   ],
   "metadata": {
    "collapsed": false
   }
  },
  {
   "cell_type": "code",
   "execution_count": 8,
   "outputs": [
    {
     "data": {
      "text/plain": "Index(['fixed acidity', 'volatile acidity', 'citric acid', 'residual sugar',\n       'chlorides', 'free sulfur dioxide', 'total sulfur dioxide', 'density',\n       'pH', 'sulphates', 'alcohol'],\n      dtype='object')"
     },
     "execution_count": 8,
     "metadata": {},
     "output_type": "execute_result"
    }
   ],
   "source": [
    "X.columns\n",
    "# from libs.simple_processing import categorize\n",
    "# X_train, X_valid = categorize(X_train, X_valid)\n",
    "# print(\"Done\")"
   ],
   "metadata": {
    "collapsed": false,
    "pycharm": {
     "name": "#%%\n"
    }
   }
  },
  {
   "cell_type": "markdown",
   "source": [
    "as we can see the number of records in train data is lowered"
   ],
   "metadata": {
    "collapsed": false
   }
  },
  {
   "cell_type": "code",
   "execution_count": 10,
   "outputs": [
    {
     "name": "stdout",
     "output_type": "stream",
     "text": [
      "Correlations >= 0.25:\n",
      "\n",
      "fixed acidity:\n",
      "\n",
      "volatile acidity:\n",
      " - fixed acidity: -0.26\n",
      "\n",
      "citric acid:\n",
      " - fixed acidity: 0.67\n",
      " - volatile acidity: -0.55\n",
      "\n",
      "residual sugar:\n",
      "\n",
      "chlorides:\n",
      "\n",
      "free sulfur dioxide:\n",
      "\n",
      "total sulfur dioxide:\n",
      " - free sulfur dioxide: 0.67\n",
      "\n",
      "density:\n",
      " - fixed acidity: 0.67\n",
      " - citric acid: 0.36\n",
      " - residual sugar: 0.36\n",
      "\n",
      "pH:\n",
      " - fixed acidity: -0.68\n",
      " - citric acid: -0.54\n",
      " - chlorides: -0.27\n",
      " - density: -0.34\n",
      "\n",
      "sulphates:\n",
      " - volatile acidity: -0.26\n",
      " - citric acid: 0.31\n",
      " - chlorides: 0.37\n",
      "\n",
      "alcohol:\n",
      " - density: -0.50\n"
     ]
    }
   ],
   "source": [
    "# from libs.simpleplotter import simple_heatmap\n",
    "# simple_heatmap(X)\n",
    "from libs.simple_analyzer import simple_correlations\n",
    "simple_correlations(X, 0.25)"
   ],
   "metadata": {
    "collapsed": false,
    "pycharm": {
     "name": "#%%\n"
    }
   }
  },
  {
   "cell_type": "code",
   "execution_count": 8,
   "outputs": [
    {
     "name": "stdout",
     "output_type": "stream",
     "text": [
      "> Model: GaussianNB\n",
      "- F1 score:  0.5541155772779045\n",
      "\n",
      "> Model: KNeighborsClassifier\n",
      "- F1 score:  0.558640350877193\n",
      "\n",
      "> Model: LinearSVC\n",
      "- F1 score:  0.5972747302202748\n",
      "\n",
      "> Model: SVC\n",
      "- F1 score:  0.6141138295207272\n",
      "\n",
      "> Model: LogisticRegression\n"
     ]
    },
    {
     "name": "stderr",
     "output_type": "stream",
     "text": [
      "/Users/kkepins-macwro/opt/anaconda3/lib/python3.9/site-packages/sklearn/linear_model/_logistic.py:814: ConvergenceWarning: lbfgs failed to converge (status=1):\n",
      "STOP: TOTAL NO. of ITERATIONS REACHED LIMIT.\n",
      "\n",
      "Increase the number of iterations (max_iter) or scale the data as shown in:\n",
      "    https://scikit-learn.org/stable/modules/preprocessing.html\n",
      "Please also refer to the documentation for alternative solver options:\n",
      "    https://scikit-learn.org/stable/modules/linear_model.html#logistic-regression\n",
      "  n_iter_i = _check_optimize_result(\n"
     ]
    },
    {
     "name": "stdout",
     "output_type": "stream",
     "text": [
      "- F1 score:  0.6094212035126245\n",
      "\n",
      "> Model: DecisionTreeClassifier\n",
      "- F1 score:  0.6873471820432635\n",
      "\n",
      "> Model: RandomForestClassifier\n",
      "- F1 score:  0.7136869040824549\n",
      "\n",
      "> Model: XGBClassifier\n"
     ]
    },
    {
     "name": "stderr",
     "output_type": "stream",
     "text": [
      "/Users/kkepins-macwro/opt/anaconda3/lib/python3.9/site-packages/xgboost/sklearn.py:1224: UserWarning: The use of label encoder in XGBClassifier is deprecated and will be removed in a future release. To remove this warning, do the following: 1) Pass option use_label_encoder=False when constructing XGBClassifier object; and 2) Encode your labels (y) as integers starting with 0, i.e. 0, 1, 2, ..., [num_class - 1].\n",
      "  warnings.warn(label_encoder_deprecation_msg, UserWarning)\n",
      "/Users/kkepins-macwro/opt/anaconda3/lib/python3.9/site-packages/xgboost/sklearn.py:1224: UserWarning: The use of label encoder in XGBClassifier is deprecated and will be removed in a future release. To remove this warning, do the following: 1) Pass option use_label_encoder=False when constructing XGBClassifier object; and 2) Encode your labels (y) as integers starting with 0, i.e. 0, 1, 2, ..., [num_class - 1].\n",
      "  warnings.warn(label_encoder_deprecation_msg, UserWarning)\n",
      "/Users/kkepins-macwro/opt/anaconda3/lib/python3.9/site-packages/xgboost/sklearn.py:1224: UserWarning: The use of label encoder in XGBClassifier is deprecated and will be removed in a future release. To remove this warning, do the following: 1) Pass option use_label_encoder=False when constructing XGBClassifier object; and 2) Encode your labels (y) as integers starting with 0, i.e. 0, 1, 2, ..., [num_class - 1].\n",
      "  warnings.warn(label_encoder_deprecation_msg, UserWarning)\n",
      "/Users/kkepins-macwro/opt/anaconda3/lib/python3.9/site-packages/xgboost/sklearn.py:1224: UserWarning: The use of label encoder in XGBClassifier is deprecated and will be removed in a future release. To remove this warning, do the following: 1) Pass option use_label_encoder=False when constructing XGBClassifier object; and 2) Encode your labels (y) as integers starting with 0, i.e. 0, 1, 2, ..., [num_class - 1].\n",
      "  warnings.warn(label_encoder_deprecation_msg, UserWarning)\n",
      "/Users/kkepins-macwro/opt/anaconda3/lib/python3.9/site-packages/xgboost/sklearn.py:1224: UserWarning: The use of label encoder in XGBClassifier is deprecated and will be removed in a future release. To remove this warning, do the following: 1) Pass option use_label_encoder=False when constructing XGBClassifier object; and 2) Encode your labels (y) as integers starting with 0, i.e. 0, 1, 2, ..., [num_class - 1].\n",
      "  warnings.warn(label_encoder_deprecation_msg, UserWarning)\n",
      "/Users/kkepins-macwro/opt/anaconda3/lib/python3.9/site-packages/xgboost/sklearn.py:1224: UserWarning: The use of label encoder in XGBClassifier is deprecated and will be removed in a future release. To remove this warning, do the following: 1) Pass option use_label_encoder=False when constructing XGBClassifier object; and 2) Encode your labels (y) as integers starting with 0, i.e. 0, 1, 2, ..., [num_class - 1].\n",
      "  warnings.warn(label_encoder_deprecation_msg, UserWarning)\n"
     ]
    },
    {
     "name": "stdout",
     "output_type": "stream",
     "text": [
      "[21:29:32] WARNING: ../src/learner.cc:1115: Starting in XGBoost 1.3.0, the default evaluation metric used with the objective 'multi:softprob' was changed from 'merror' to 'mlogloss'. Explicitly set eval_metric if you'd like to restore the old behavior.\n",
      "- F1 score:  0.6698232797961359\n",
      "\n",
      "> Model: GradientBoostingClassifier\n",
      "- F1 score:  0.6779955743409133\n",
      "\n",
      "Done.\n"
     ]
    }
   ],
   "source": [
    "from libs.simple_hyper_tuner import quick_gridsearchcv_overview\n",
    "\n",
    "winner = quick_gridsearchcv_overview(X, y, [5])"
   ],
   "metadata": {
    "collapsed": false,
    "pycharm": {
     "name": "#%%\n"
    }
   }
  },
  {
   "cell_type": "markdown",
   "source": [
    "# Models Training & Hyper-params Tuning for Different Classification Models\n"
   ],
   "metadata": {
    "collapsed": false
   }
  },
  {
   "cell_type": "code",
   "execution_count": 82,
   "outputs": [
    {
     "name": "stdout",
     "output_type": "stream",
     "text": [
      "> Model: RandomForestClassifier\n"
     ]
    },
    {
     "name": "stderr",
     "output_type": "stream",
     "text": [
      "/Users/kkepins-macwro/opt/anaconda3/lib/python3.9/site-packages/sklearn/model_selection/_split.py:676: UserWarning: The least populated class in y has only 7 members, which is less than n_splits=10.\n",
      "  warnings.warn(\n"
     ]
    },
    {
     "name": "stdout",
     "output_type": "stream",
     "text": [
      "- F1 score:  0.7310228082679971\n",
      "\n",
      "> Model: XGBClassifier\n"
     ]
    },
    {
     "name": "stderr",
     "output_type": "stream",
     "text": [
      "/Users/kkepins-macwro/opt/anaconda3/lib/python3.9/site-packages/sklearn/model_selection/_split.py:676: UserWarning: The least populated class in y has only 7 members, which is less than n_splits=10.\n",
      "  warnings.warn(\n",
      "/Users/kkepins-macwro/opt/anaconda3/lib/python3.9/site-packages/xgboost/sklearn.py:1224: UserWarning: The use of label encoder in XGBClassifier is deprecated and will be removed in a future release. To remove this warning, do the following: 1) Pass option use_label_encoder=False when constructing XGBClassifier object; and 2) Encode your labels (y) as integers starting with 0, i.e. 0, 1, 2, ..., [num_class - 1].\n",
      "  warnings.warn(label_encoder_deprecation_msg, UserWarning)\n",
      "/Users/kkepins-macwro/opt/anaconda3/lib/python3.9/site-packages/xgboost/sklearn.py:1224: UserWarning: The use of label encoder in XGBClassifier is deprecated and will be removed in a future release. To remove this warning, do the following: 1) Pass option use_label_encoder=False when constructing XGBClassifier object; and 2) Encode your labels (y) as integers starting with 0, i.e. 0, 1, 2, ..., [num_class - 1].\n",
      "  warnings.warn(label_encoder_deprecation_msg, UserWarning)\n",
      "/Users/kkepins-macwro/opt/anaconda3/lib/python3.9/site-packages/xgboost/sklearn.py:1224: UserWarning: The use of label encoder in XGBClassifier is deprecated and will be removed in a future release. To remove this warning, do the following: 1) Pass option use_label_encoder=False when constructing XGBClassifier object; and 2) Encode your labels (y) as integers starting with 0, i.e. 0, 1, 2, ..., [num_class - 1].\n",
      "  warnings.warn(label_encoder_deprecation_msg, UserWarning)\n",
      "/Users/kkepins-macwro/opt/anaconda3/lib/python3.9/site-packages/xgboost/sklearn.py:1224: UserWarning: The use of label encoder in XGBClassifier is deprecated and will be removed in a future release. To remove this warning, do the following: 1) Pass option use_label_encoder=False when constructing XGBClassifier object; and 2) Encode your labels (y) as integers starting with 0, i.e. 0, 1, 2, ..., [num_class - 1].\n",
      "  warnings.warn(label_encoder_deprecation_msg, UserWarning)\n",
      "/Users/kkepins-macwro/opt/anaconda3/lib/python3.9/site-packages/xgboost/sklearn.py:1224: UserWarning: The use of label encoder in XGBClassifier is deprecated and will be removed in a future release. To remove this warning, do the following: 1) Pass option use_label_encoder=False when constructing XGBClassifier object; and 2) Encode your labels (y) as integers starting with 0, i.e. 0, 1, 2, ..., [num_class - 1].\n",
      "  warnings.warn(label_encoder_deprecation_msg, UserWarning)\n",
      "/Users/kkepins-macwro/opt/anaconda3/lib/python3.9/site-packages/xgboost/sklearn.py:1224: UserWarning: The use of label encoder in XGBClassifier is deprecated and will be removed in a future release. To remove this warning, do the following: 1) Pass option use_label_encoder=False when constructing XGBClassifier object; and 2) Encode your labels (y) as integers starting with 0, i.e. 0, 1, 2, ..., [num_class - 1].\n",
      "  warnings.warn(label_encoder_deprecation_msg, UserWarning)\n",
      "/Users/kkepins-macwro/opt/anaconda3/lib/python3.9/site-packages/xgboost/sklearn.py:1224: UserWarning: The use of label encoder in XGBClassifier is deprecated and will be removed in a future release. To remove this warning, do the following: 1) Pass option use_label_encoder=False when constructing XGBClassifier object; and 2) Encode your labels (y) as integers starting with 0, i.e. 0, 1, 2, ..., [num_class - 1].\n",
      "  warnings.warn(label_encoder_deprecation_msg, UserWarning)\n",
      "/Users/kkepins-macwro/opt/anaconda3/lib/python3.9/site-packages/xgboost/sklearn.py:1224: UserWarning: The use of label encoder in XGBClassifier is deprecated and will be removed in a future release. To remove this warning, do the following: 1) Pass option use_label_encoder=False when constructing XGBClassifier object; and 2) Encode your labels (y) as integers starting with 0, i.e. 0, 1, 2, ..., [num_class - 1].\n",
      "  warnings.warn(label_encoder_deprecation_msg, UserWarning)\n"
     ]
    },
    {
     "name": "stdout",
     "output_type": "stream",
     "text": [
      "[22:43:11] WARNING: ../src/learner.cc:1115: Starting in XGBoost 1.3.0, the default evaluation metric used with the objective 'multi:softprob' was changed from 'merror' to 'mlogloss'. Explicitly set eval_metric if you'd like to restore the old behavior.\n",
      "[22:43:18] WARNING: ../src/learner.cc:1115: Starting in XGBoost 1.3.0, the default evaluation metric used with the objective 'multi:softprob' was changed from 'merror' to 'mlogloss'. Explicitly set eval_metric if you'd like to restore the old behavior.\n",
      "[22:43:54] WARNING: ../src/learner.cc:1115: Starting in XGBoost 1.3.0, the default evaluation metric used with the objective 'multi:softprob' was changed from 'merror' to 'mlogloss'. Explicitly set eval_metric if you'd like to restore the old behavior.\n",
      "[22:44:01] WARNING: ../src/learner.cc:1115: Starting in XGBoost 1.3.0, the default evaluation metric used with the objective 'multi:softprob' was changed from 'merror' to 'mlogloss'. Explicitly set eval_metric if you'd like to restore the old behavior.\n",
      "[22:44:29] WARNING: ../src/learner.cc:1115: Starting in XGBoost 1.3.0, the default evaluation metric used with the objective 'multi:softprob' was changed from 'merror' to 'mlogloss'. Explicitly set eval_metric if you'd like to restore the old behavior.\n",
      "[22:50:48] WARNING: ../src/learner.cc:1115: Starting in XGBoost 1.3.0, the default evaluation metric used with the objective 'multi:softprob' was changed from 'merror' to 'mlogloss'. Explicitly set eval_metric if you'd like to restore the old behavior.\n",
      "[22:53:01] WARNING: ../src/learner.cc:1115: Starting in XGBoost 1.3.0, the default evaluation metric used with the objective 'multi:softprob' was changed from 'merror' to 'mlogloss'. Explicitly set eval_metric if you'd like to restore the old behavior.\n"
     ]
    },
    {
     "name": "stderr",
     "output_type": "stream",
     "text": [
      "/Users/kkepins-macwro/opt/anaconda3/lib/python3.9/site-packages/joblib/externals/loky/process_executor.py:702: UserWarning: A worker stopped while some jobs were given to the executor. This can be caused by a too short worker timeout or by a memory leak.\n",
      "  warnings.warn(\n",
      "/Users/kkepins-macwro/opt/anaconda3/lib/python3.9/site-packages/xgboost/sklearn.py:1224: UserWarning: The use of label encoder in XGBClassifier is deprecated and will be removed in a future release. To remove this warning, do the following: 1) Pass option use_label_encoder=False when constructing XGBClassifier object; and 2) Encode your labels (y) as integers starting with 0, i.e. 0, 1, 2, ..., [num_class - 1].\n",
      "  warnings.warn(label_encoder_deprecation_msg, UserWarning)\n",
      "/Users/kkepins-macwro/opt/anaconda3/lib/python3.9/site-packages/xgboost/sklearn.py:1224: UserWarning: The use of label encoder in XGBClassifier is deprecated and will be removed in a future release. To remove this warning, do the following: 1) Pass option use_label_encoder=False when constructing XGBClassifier object; and 2) Encode your labels (y) as integers starting with 0, i.e. 0, 1, 2, ..., [num_class - 1].\n",
      "  warnings.warn(label_encoder_deprecation_msg, UserWarning)\n",
      "/Users/kkepins-macwro/opt/anaconda3/lib/python3.9/site-packages/xgboost/sklearn.py:1224: UserWarning: The use of label encoder in XGBClassifier is deprecated and will be removed in a future release. To remove this warning, do the following: 1) Pass option use_label_encoder=False when constructing XGBClassifier object; and 2) Encode your labels (y) as integers starting with 0, i.e. 0, 1, 2, ..., [num_class - 1].\n",
      "  warnings.warn(label_encoder_deprecation_msg, UserWarning)\n"
     ]
    },
    {
     "name": "stdout",
     "output_type": "stream",
     "text": [
      "[22:57:38] WARNING: ../src/learner.cc:1115: Starting in XGBoost 1.3.0, the default evaluation metric used with the objective 'multi:softprob' was changed from 'merror' to 'mlogloss'. Explicitly set eval_metric if you'd like to restore the old behavior.\n",
      "- F1 score:  0.7384216566992439\n",
      "\n",
      "Done.\n"
     ]
    }
   ],
   "source": [
    "from sklearn.naive_bayes import GaussianNB\n",
    "from sklearn.neighbors import KNeighborsClassifier\n",
    "from sklearn.ensemble import RandomForestClassifier\n",
    "from sklearn.tree import DecisionTreeClassifier\n",
    "from libs.simple_processing import get_model_name, print_scores\n",
    "from pandas import DataFrame\n",
    "from sklearn.gaussian_process import GaussianProcessClassifier\n",
    "import imblearn\n",
    "from sklearn.linear_model import LogisticRegression\n",
    "from sklearn.linear_model import SGDClassifier\n",
    "from libs.simple_hyper_tuner import gridsearchcv_tuner\n",
    "from xgboost import XGBClassifier\n",
    "\n",
    "params = [\n",
    "\n",
    "    # model = XGBClassifier(n_estimators=150, learning_rate=0.08, max_depth=7, num_parallel_tree=10,\n",
    "    #                       use_label_encoder=False, eval_metric='error')\n",
    "    #\n",
    "\n",
    "#     Validation Results:\n",
    "# - Accuracy score:  0.75\n",
    "# - Accuracy count:  240 / 320\n",
    "# - Precision score:  0.7304975616265528\n",
    "# - Recall score:  0.75\n",
    "# - F1 score:  0.7384216566992439\n",
    "# Params:\n",
    "# - cv:  5\n",
    "#        - Splitter Params:  {'train_size': 0.8, 'random_state': 50}\n",
    "#                            - Model Params:  XGBClassifier(base_score=None, booster=None, colsample_bylevel=None,\n",
    "#                                                           colsample_bynode=None, colsample_bytree=None,\n",
    "#                                                           enable_categorical=False, gamma=None, gpu_id=None,\n",
    "#                                                           importance_type=None, interaction_constraints=None,\n",
    "#                                                           learning_rate=0.08, max_delta_step=None, max_depth=7,\n",
    "#                                                           min_child_weight=None, missing=nan, monotone_constraints=None,\n",
    "#                                                           n_estimators=150, n_jobs=None, num_parallel_tree=10,\n",
    "#                                                           predictor=None, random_state=None, reg_alpha=None,\n",
    "#                                                           reg_lambda=None, scale_pos_weight=None, subsample=None,\n",
    "#                                                           tree_method=None, validate_parameters=None, verbosity=None)\n",
    "#                                             - Best H-Params:  {'max_depth': 8, 'n_estimators': 70}\n",
    "\n",
    "    {\n",
    "        'splitter': {'train_size': [0.8], 'random_state': [50]},\n",
    "        'cv': [10],\n",
    "        'model': RandomForestClassifier(\n",
    "            # criterion='gini'\n",
    "            # max_depth=14, n_estimators=160\n",
    "            # , random_state=0, max_leaf_nodes=19\n",
    "            # max_depth=8, max_features=\"auto\"\n",
    "            # , bootstrap=True, oob_score=True, random_state=0\n",
    "            # , criterion='entropy', n_estimators=110\n",
    "        ),\n",
    "        'hyperparams': {\n",
    "                    # 'max_features':[\"auto\", \"sqrt\", \"log2\"],\n",
    "                    # 'max_samples': range(0, 40, 5),\n",
    "                    # 'n_estimators': range(155, 175, 5),\n",
    "                    # 'max_depth': range(10, 15, 1)\n",
    "        }\n",
    "    },\n",
    "    {\n",
    "        'splitter': {'train_size': [0.8], 'random_state': [50]},\n",
    "        'cv': [10],\n",
    "        'model': XGBClassifier(\n",
    "            n_estimators=70, learning_rate=0.08, max_depth=8, num_parallel_tree=10\n",
    "            # , min_samples_leaf=1, min_samples_split=3\n",
    "        #   use_label_encoder=False,\n",
    "        #     , eval_metric='error'\n",
    "            # , max_leaf_nodes=1, validation_fraction=0\n",
    "            # , tol=0, ccp_alpha=0, n_iter_no_change=1\n",
    "        ),\n",
    "        'hyperparams': {\n",
    "             # 'n_estimators':range(100, 160, 10)\n",
    "            # 'min_samples_split':np.arange(3, 6, 1),\n",
    "            # 'min_samples_leaf':np.arange(1, 4, 1),\n",
    "            # 'subsample':np.arange(0.6, 0.9, 0.1),\n",
    "            # 'criterion': ['friedman_mse', 'squared_error'],\n",
    "            # , 'max_depth': range(5, 9, 1)\n",
    "            # , 'learning_rate':np.arange(0.09, 0.13, 0.01)\n",
    "            # , 'min_weight_fraction_leaf':np.arange(0, 0.14, 0.02)\n",
    "            # , 'min_impurity_decrease':np.arange(0, 0.14, 0.02)\n",
    "            # 'max_leaf_nodes':range(1, 7, 1)\n",
    "            # , 'warm_start': [True, False]\n",
    "            # 'validation_fraction': np.arange(0, 0.005, 0.001)\n",
    "            'tol': np.arange(0, 0.005, 0.001)\n",
    "            # 'ccp_alpha': np.arange(0, 0.005, 0.001)\n",
    "            # 'n_iter_no_change':range(1, 7, 1)\n",
    "\n",
    "        }\n",
    "    }\n",
    "]\n",
    "# categorization, train-test splitting, grid-search with cross-validation and printing scores.\n",
    "winner = gridsearchcv_tuner(X, y, params, 0)"
   ],
   "metadata": {
    "collapsed": false,
    "pycharm": {
     "name": "#%%\n"
    }
   }
  },
  {
   "cell_type": "code",
   "execution_count": 53,
   "outputs": [
    {
     "name": "stderr",
     "output_type": "stream",
     "text": [
      "/Users/kkepins-macwro/opt/anaconda3/lib/python3.9/site-packages/xgboost/sklearn.py:1224: UserWarning: The use of label encoder in XGBClassifier is deprecated and will be removed in a future release. To remove this warning, do the following: 1) Pass option use_label_encoder=False when constructing XGBClassifier object; and 2) Encode your labels (y) as integers starting with 0, i.e. 0, 1, 2, ..., [num_class - 1].\n",
      "  warnings.warn(label_encoder_deprecation_msg, UserWarning)\n"
     ]
    },
    {
     "name": "stdout",
     "output_type": "stream",
     "text": [
      "[22:23:10] WARNING: ../src/learner.cc:1115: Starting in XGBoost 1.3.0, the default evaluation metric used with the objective 'multi:softprob' was changed from 'merror' to 'mlogloss'. Explicitly set eval_metric if you'd like to restore the old behavior.\n",
      "Validation Results:\n",
      "- Accuracy score:  0.721875\n",
      "- Accuracy count:  231 / 320\n",
      "- Precision score:  0.7008275130452627\n",
      "- Recall score:  0.721875\n",
      "- F1 score:  0.7094497376754825\n",
      "Done\n"
     ]
    },
    {
     "name": "stderr",
     "output_type": "stream",
     "text": [
      "/Users/kkepins-macwro/opt/anaconda3/lib/python3.9/site-packages/sklearn/metrics/_classification.py:1318: UndefinedMetricWarning: Precision is ill-defined and being set to 0.0 in labels with no predicted samples. Use `zero_division` parameter to control this behavior.\n",
      "  _warn_prf(average, modifier, msg_start, len(result))\n"
     ]
    }
   ],
   "source": [
    "from libs.simple_processing import categorize\n",
    "from libs.simple_hyper_tuner import predict_print_valid_scores\n",
    "from libs.simpleplotter import simple_confusion_matrix\n",
    "\n",
    "X_train, X_valid, y_train, y_valid = train_test_split(X, y, train_size=0.8, random_state=50)\n",
    "X_train, X_valid = categorize(X_train, X_valid)\n",
    "\n",
    "model = XGBClassifier(\n",
    "    n_estimators=70, learning_rate=0.08, max_depth=8, num_parallel_tree=10\n",
    ")\n",
    "model.fit(X_train, y_train)\n",
    "y_pred = model.predict(X_valid)\n",
    "\n",
    "print(\"Validation Results:\")\n",
    "f1 = predict_print_valid_scores(model, X_valid, y_valid)\n",
    "\n",
    "print(\"Done\")"
   ],
   "metadata": {
    "collapsed": false,
    "pycharm": {
     "name": "#%%\n"
    }
   }
  },
  {
   "cell_type": "code",
   "execution_count": 83,
   "outputs": [
    {
     "name": "stdout",
     "output_type": "stream",
     "text": [
      "Validation Results:\n",
      "- Accuracy score:  0.728125\n",
      "- Accuracy count:  233 / 320\n",
      "- Precision score:  0.7206890443313954\n",
      "- Recall score:  0.728125\n",
      "- F1 score:  0.721640208070996\n",
      "Done\n"
     ]
    }
   ],
   "source": [
    "from libs.simple_processing import categorize\n",
    "from libs.simple_hyper_tuner import predict_print_valid_scores\n",
    "from libs.simpleplotter import simple_roc\n",
    "X_train, X_valid, y_train, y_valid = train_test_split(X, y, train_size=0.8, random_state=50)\n",
    "X_train, X_valid = categorize(X_train, X_valid)\n",
    "\n",
    "model = GradientBoostingClassifier(max_depth=7, learning_rate=0.11, n_estimators=35, loss='deviance', max_features='log2', random_state=30, n_iter_no_change=1)\n",
    "model.fit(X_train, y_train)\n",
    "# y_pred = model.predict(X_valid)\n",
    "# simple_roc(y_valid, y_pred)\n",
    "\n",
    "print(\"Validation Results:\")\n",
    "f1 = predict_print_valid_scores(model, X_valid, y_valid)\n",
    "\n",
    "# simple_confusion_matrix(y_valid, y_pred, winner.classes_)\n",
    "\n",
    "print(\"Done\")\n"
   ],
   "metadata": {
    "collapsed": false,
    "pycharm": {
     "name": "#%%\n"
    }
   }
  },
  {
   "cell_type": "code",
   "execution_count": 18,
   "outputs": [
    {
     "data": {
      "text/plain": "      y_valid  y_pred\n1035        7       6\n49          5       5\n799         6       6\n538         7       6\n660         6       6\n...       ...     ...\n1335        6       6\n1027        5       6\n34          5       5\n504         7       6\n1491        5       5\n\n[320 rows x 2 columns]",
      "text/html": "<div>\n<style scoped>\n    .dataframe tbody tr th:only-of-type {\n        vertical-align: middle;\n    }\n\n    .dataframe tbody tr th {\n        vertical-align: top;\n    }\n\n    .dataframe thead th {\n        text-align: right;\n    }\n</style>\n<table border=\"1\" class=\"dataframe\">\n  <thead>\n    <tr style=\"text-align: right;\">\n      <th></th>\n      <th>y_valid</th>\n      <th>y_pred</th>\n    </tr>\n  </thead>\n  <tbody>\n    <tr>\n      <th>1035</th>\n      <td>7</td>\n      <td>6</td>\n    </tr>\n    <tr>\n      <th>49</th>\n      <td>5</td>\n      <td>5</td>\n    </tr>\n    <tr>\n      <th>799</th>\n      <td>6</td>\n      <td>6</td>\n    </tr>\n    <tr>\n      <th>538</th>\n      <td>7</td>\n      <td>6</td>\n    </tr>\n    <tr>\n      <th>660</th>\n      <td>6</td>\n      <td>6</td>\n    </tr>\n    <tr>\n      <th>...</th>\n      <td>...</td>\n      <td>...</td>\n    </tr>\n    <tr>\n      <th>1335</th>\n      <td>6</td>\n      <td>6</td>\n    </tr>\n    <tr>\n      <th>1027</th>\n      <td>5</td>\n      <td>6</td>\n    </tr>\n    <tr>\n      <th>34</th>\n      <td>5</td>\n      <td>5</td>\n    </tr>\n    <tr>\n      <th>504</th>\n      <td>7</td>\n      <td>6</td>\n    </tr>\n    <tr>\n      <th>1491</th>\n      <td>5</td>\n      <td>5</td>\n    </tr>\n  </tbody>\n</table>\n<p>320 rows × 2 columns</p>\n</div>"
     },
     "execution_count": 18,
     "metadata": {},
     "output_type": "execute_result"
    }
   ],
   "source": [
    "output = pd.DataFrame({'y_valid': y_valid, 'y_pred': y_pred})\n",
    "output\n"
   ],
   "metadata": {
    "collapsed": false,
    "pycharm": {
     "name": "#%%\n"
    }
   }
  },
  {
   "cell_type": "code",
   "execution_count": 20,
   "outputs": [
    {
     "data": {
      "text/plain": "<Figure size 360x360 with 1 Axes>",
      "image/png": "[encoded data removed]"
     },
     "metadata": {
      "needs_background": "light"
     },
     "output_type": "display_data"
    },
    {
     "data": {
      "text/plain": "array([[  0,   0,   2,   1,   0,   0],\n       [  0,   0,   5,   3,   0,   0],\n       [  0,   1, 116,  19,   0,   0],\n       [  0,   2,  26,  91,   6,   0],\n       [  0,   0,   5,  17,  20,   0],\n       [  0,   0,   0,   2,   4,   0]])"
     },
     "execution_count": 20,
     "metadata": {},
     "output_type": "execute_result"
    }
   ],
   "source": [
    "from libs.simpleplotter import simple_confusion_matrix\n",
    "\n",
    "simple_confusion_matrix(y_valid, y_pred, winner.classes_)"
   ],
   "metadata": {
    "collapsed": false,
    "pycharm": {
     "name": "#%%\n"
    }
   }
  },
  {
   "cell_type": "markdown",
   "source": [
    "## Score\n"
   ],
   "metadata": {
    "collapsed": false
   }
  },
  {
   "cell_type": "code",
   "execution_count": 84,
   "outputs": [
    {
     "name": "stdout",
     "output_type": "stream",
     "text": [
      "train Score:  0.6778733385457388\n",
      "val Score:  0.621875\n"
     ]
    }
   ],
   "source": [
    "# BEST params:  {'n_estimators': 110, 'bootstrap': False, 'max_depth': 9}\n",
    "# => train data: 0.934 val data: 0.731\n",
    "# {\n",
    "#     'modelName': globals()[\"RandomForestClassifier\"],\n",
    "#     'hyperParamNames': ['n_estimators', 'bootstrap', 'max_depth'],\n",
    "#     'hyperParamValues': [range(80, 140, 10), [True, False], range(7, 10, 1)],\n",
    "#     'params': {'random_state': 0, \"n_jobs\": 3, 'criterion': 'gini', 'max_leaf_nodes': 19}\n",
    "# }\n",
    "model = RandomForestClassifier(criterion='gini', max_depth=9, n_estimators=110, n_jobs=3, random_state=0, max_leaf_nodes=19)\n",
    "model.fit(X_train, y_train)\n",
    "# y_pred = model.predict(X_valid)\n",
    "# print_scores(y_valid, y_pred)\n",
    "print('train Score: ', model.score(X_train, y_train))\n",
    "print('val Score: ', model.score(X_valid, y_valid))"
   ],
   "metadata": {
    "collapsed": false,
    "pycharm": {
     "name": "#%%\n"
    }
   }
  },
  {
   "cell_type": "code",
   "execution_count": 86,
   "outputs": [
    {
     "name": "stdout",
     "output_type": "stream",
     "text": [
      "train Score:  1.0\n",
      "val Score:  0.659375\n"
     ]
    }
   ],
   "source": [
    "from libs.simpleplotter import decision_tree\n",
    "model = DecisionTreeClassifier( )\n",
    "model.fit(X_train, y_train)\n",
    "# y_pred = model.predict(X_valid)\n",
    "# print_scores(y_valid, y_pred)\n",
    "print('train Score: ', model.score(X_train, y_train))\n",
    "print('val Score: ', model.score(X_valid, y_valid))\n",
    "# decision_tree(model, X_train)"
   ],
   "metadata": {
    "collapsed": false,
    "pycharm": {
     "name": "#%%\n"
    }
   }
  },
  {
   "cell_type": "code",
   "execution_count": null,
   "outputs": [],
   "source": [
    "# BEST params:  {'n_estimators': 130, 'learning_rate': 0.8999999999999999, 'max_depth': 11}\n",
    "# => train data: 1.000 val data: 0.738\n",
    "model = GradientBoostingClassifier(max_features=\"auto\", learning_rate=1.2, max_depth=6, n_estimators=80)\n",
    "model.fit(X_train, y_train)\n",
    "# print_scores(y_valid, y_pred)\n",
    "print('train Score: ', model.score(X_train, y_train))\n",
    "print('val Score: ', model.score(X_valid, y_valid))\n"
   ],
   "metadata": {
    "collapsed": false,
    "pycharm": {
     "name": "#%%\n"
    }
   }
  },
  {
   "cell_type": "markdown",
   "source": [
    "# Winner"
   ],
   "metadata": {
    "collapsed": false
   }
  },
  {
   "cell_type": "code",
   "execution_count": null,
   "outputs": [],
   "source": [
    "model = GradientBoostingClassifier(max_features=\"auto\", criterion='mse', learning_rate=0.7, max_depth=11, n_estimators=90, random_state=6)\n",
    "model.fit(X_train, y_train)\n",
    "# print_scores(y_valid, y_pred)\n",
    "print('train Score: ', model.score(X_train, y_train))\n",
    "print('val Score: ', model.score(X_valid, y_valid))\n"
   ],
   "metadata": {
    "collapsed": false,
    "pycharm": {
     "name": "#%%\n"
    }
   }
  },
  {
   "cell_type": "markdown",
   "source": [
    "## Receiver Operating Characteristic (ROC)"
   ],
   "metadata": {
    "collapsed": false
   }
  },
  {
   "cell_type": "code",
   "execution_count": 11,
   "outputs": [
    {
     "ename": "NameError",
     "evalue": "name 'y_pred' is not defined",
     "output_type": "error",
     "traceback": [
      "\u001B[0;31m---------------------------------------------------------------------------\u001B[0m",
      "\u001B[0;31mNameError\u001B[0m                                 Traceback (most recent call last)",
      "\u001B[0;32m/var/folders/r3/hdngxsmd2vq391vqv6kg6f7w0000gn/T/ipykernel_67037/1210169819.py\u001B[0m in \u001B[0;36m<module>\u001B[0;34m\u001B[0m\n\u001B[1;32m      1\u001B[0m \u001B[0;32mfrom\u001B[0m \u001B[0mlibs\u001B[0m\u001B[0;34m.\u001B[0m\u001B[0msimpleplotter\u001B[0m \u001B[0;32mimport\u001B[0m \u001B[0msimple_roc\u001B[0m\u001B[0;34m\u001B[0m\u001B[0;34m\u001B[0m\u001B[0m\n\u001B[1;32m      2\u001B[0m \u001B[0;34m\u001B[0m\u001B[0m\n\u001B[0;32m----> 3\u001B[0;31m \u001B[0msimple_roc\u001B[0m\u001B[0;34m(\u001B[0m\u001B[0my_valid\u001B[0m\u001B[0;34m,\u001B[0m \u001B[0my_pred\u001B[0m\u001B[0;34m)\u001B[0m\u001B[0;34m\u001B[0m\u001B[0;34m\u001B[0m\u001B[0m\n\u001B[0m",
      "\u001B[0;31mNameError\u001B[0m: name 'y_pred' is not defined"
     ]
    }
   ],
   "source": [
    "from libs.simpleplotter import simple_roc\n",
    "\n",
    "simple_roc(y_valid, y_pred)"
   ],
   "metadata": {
    "collapsed": false,
    "pycharm": {
     "name": "#%%\n"
    }
   }
  },
  {
   "cell_type": "markdown",
   "source": [
    "## Confusion Matrix / Macierz pomyłek"
   ],
   "metadata": {
    "collapsed": false
   }
  },
  {
   "cell_type": "code",
   "execution_count": null,
   "outputs": [],
   "source": [
    "from libs.simpleplotter import simple_confusion_matrix\n",
    "conf_matrix = simple_confusion_matrix(y_valid, y_pred, model.classes_)"
   ],
   "metadata": {
    "collapsed": false,
    "pycharm": {
     "name": "#%%\n"
    }
   }
  },
  {
   "cell_type": "markdown",
   "source": [
    "## Which features became decision makers for the model?"
   ],
   "metadata": {
    "collapsed": false
   }
  },
  {
   "cell_type": "code",
   "execution_count": 87,
   "outputs": [
    {
     "data": {
      "text/plain": "<Figure size 432x288 with 1 Axes>",
      "image/png": "[encoded data removed]"
     },
     "metadata": {
      "needs_background": "light"
     },
     "output_type": "display_data"
    }
   ],
   "source": [
    "from libs.simpleplotter import feature_importance\n",
    "\n",
    "feature_importance(winner, X_train)"
   ],
   "metadata": {
    "collapsed": false,
    "pycharm": {
     "name": "#%%\n"
    }
   }
  },
  {
   "cell_type": "markdown",
   "source": [
    "# Generating Model Predictions For Test Data & Saving the results for Kaggle Competition"
   ],
   "metadata": {
    "collapsed": false
   }
  },
  {
   "cell_type": "code",
   "execution_count": null,
   "outputs": [],
   "source": [
    "# y_pred = winner.predict(X)\n",
    "# output = pd.DataFrame({'Id': Ids, 'Species': y_pred})\n",
    "#\n",
    "# print_scores(y, y_pred)\n",
    "# output.to_csv('./submission.csv', index=False)\n",
    "# SUBMISSION = pd.read_csv(\"./submission.csv\")\n",
    "# SUBMISSION"
   ],
   "metadata": {
    "collapsed": false,
    "pycharm": {
     "name": "#%%\n"
    }
   }
  }
 ],
 "metadata": {
  "kernelspec": {
   "display_name": "Python 3",
   "language": "python",
   "name": "python3"
  },
  "language_info": {
   "codemirror_mode": {
    "name": "ipython",
    "version": 2
   },
   "file_extension": ".py",
   "mimetype": "text/x-python",
   "name": "python",
   "nbconvert_exporter": "python",
   "pygments_lexer": "ipython2",
   "version": "2.7.6"
  }
 },
 "nbformat": 4,
 "nbformat_minor": 0
}