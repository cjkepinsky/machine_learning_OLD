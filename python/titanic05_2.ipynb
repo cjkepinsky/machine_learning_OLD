{
 "cells": [
  {
   "cell_type": "code",
   "execution_count": 328,
   "id": "d84a291e",
   "metadata": {},
   "outputs": [
    {
     "name": "stdout",
     "output_type": "stream",
     "text": [
      "Done\n"
     ]
    }
   ],
   "source": [
    "# This Python 3 environment comes with many helpful analytics libraries installed\n",
    "# It is defined by the kaggle/python Docker image: https://github.com/kaggle/docker-python\n",
    "# For example, here's several helpful packages to load\n",
    "import re\n",
    "import numpy as np # linear algebra\n",
    "import pandas as pd # data processing, CSV file I/O (e.g. pd.read_csv)\n",
    "import matplotlib.pyplot as plt\n",
    "import seaborn as sns\n",
    "from sklearn.model_selection import train_test_split\n",
    "from sklearn.ensemble import GradientBoostingClassifier\n",
    "from sklearn.metrics import accuracy_score\n",
    "from sklearn.metrics import precision_score\n",
    "from sklearn.metrics import recall_score\n",
    "from sklearn.model_selection import GridSearchCV\n",
    "\n",
    "print('Done')"
   ]
  },
  {
   "cell_type": "markdown",
   "source": [
    "# SMALL INTRODUCTION MATERIALS\n",
    "\n",
    "# visualization of the ship evacuation process: https://www.youtube.com/watch?v=03IAn3TXVOc\n",
    "# Titanic Deckplans: https://www.encyclopedia-titanica.org/titanic-deckplans/\n"
   ],
   "metadata": {
    "collapsed": false,
    "pycharm": {
     "name": "#%% md\n"
    }
   }
  },
  {
   "cell_type": "code",
   "execution_count": 329,
   "outputs": [],
   "source": [
    "# Gathering train and test data\n",
    "XTRAIN = pd.read_csv(\"input/train.csv\")\n",
    "XTEST = pd.read_csv(\"input/test.csv\")"
   ],
   "metadata": {
    "collapsed": false,
    "pycharm": {
     "name": "#%%\n"
    }
   }
  },
  {
   "cell_type": "markdown",
   "source": [
    "\n",
    "EXPLORING THE DATA & PLAN PREPROCESSING\n"
   ],
   "metadata": {
    "collapsed": false,
    "pycharm": {
     "name": "#%% md\n"
    }
   }
  },
  {
   "cell_type": "code",
   "execution_count": 330,
   "outputs": [
    {
     "name": "stdout",
     "output_type": "stream",
     "text": [
      "<class 'pandas.core.frame.DataFrame'>\n",
      "RangeIndex: 891 entries, 0 to 890\n",
      "Data columns (total 12 columns):\n",
      " #   Column       Non-Null Count  Dtype  \n",
      "---  ------       --------------  -----  \n",
      " 0   PassengerId  891 non-null    int64  \n",
      " 1   Survived     891 non-null    int64  \n",
      " 2   Pclass       891 non-null    int64  \n",
      " 3   Name         891 non-null    object \n",
      " 4   Sex          891 non-null    object \n",
      " 5   Age          714 non-null    float64\n",
      " 6   SibSp        891 non-null    int64  \n",
      " 7   Parch        891 non-null    int64  \n",
      " 8   Ticket       891 non-null    object \n",
      " 9   Fare         891 non-null    float64\n",
      " 10  Cabin        204 non-null    object \n",
      " 11  Embarked     889 non-null    object \n",
      "dtypes: float64(2), int64(5), object(5)\n",
      "memory usage: 83.7+ KB\n"
     ]
    }
   ],
   "source": [
    "# So, in training data we have 891 records with 12 columns.\n",
    "# 5 of them consist text data\n",
    "\n",
    "# # Looking at missing data\n",
    "# a lot of missing data in column Cabin, also some missing in Age\n",
    "\n",
    "XTRAIN.info()"
   ],
   "metadata": {
    "collapsed": false,
    "pycharm": {
     "name": "#%%\n"
    }
   }
  },
  {
   "cell_type": "code",
   "execution_count": 331,
   "outputs": [
    {
     "name": "stdout",
     "output_type": "stream",
     "text": [
      "<class 'pandas.core.frame.DataFrame'>\n",
      "RangeIndex: 418 entries, 0 to 417\n",
      "Data columns (total 11 columns):\n",
      " #   Column       Non-Null Count  Dtype  \n",
      "---  ------       --------------  -----  \n",
      " 0   PassengerId  418 non-null    int64  \n",
      " 1   Pclass       418 non-null    int64  \n",
      " 2   Name         418 non-null    object \n",
      " 3   Sex          418 non-null    object \n",
      " 4   Age          332 non-null    float64\n",
      " 5   SibSp        418 non-null    int64  \n",
      " 6   Parch        418 non-null    int64  \n",
      " 7   Ticket       418 non-null    object \n",
      " 8   Fare         417 non-null    float64\n",
      " 9   Cabin        91 non-null     object \n",
      " 10  Embarked     418 non-null    object \n",
      "dtypes: float64(2), int64(4), object(5)\n",
      "memory usage: 36.0+ KB\n"
     ]
    }
   ],
   "source": [
    "# for the test data we can see that there is less missing data than in train data\n",
    "# but also we have only 418 records and 11 cols (no 'Survival')\n",
    "XTEST.info()"
   ],
   "metadata": {
    "collapsed": false,
    "pycharm": {
     "name": "#%%\n"
    }
   }
  },
  {
   "cell_type": "code",
   "execution_count": 332,
   "outputs": [
    {
     "data": {
      "text/plain": "<AxesSubplot:xlabel='Sex', ylabel='count'>"
     },
     "execution_count": 332,
     "metadata": {},
     "output_type": "execute_result"
    },
    {
     "data": {
      "text/plain": "<Figure size 432x288 with 1 Axes>",
      "image/png": "[encoded data removed]"
     },
     "metadata": {
      "needs_background": "light"
     },
     "output_type": "display_data"
    }
   ],
   "source": [
    "sns.countplot(x=\"Sex\",data=XTRAIN)"
   ],
   "metadata": {
    "collapsed": false,
    "pycharm": {
     "name": "#%%\n"
    }
   }
  },
  {
   "cell_type": "code",
   "execution_count": 333,
   "outputs": [
    {
     "data": {
      "text/plain": "<AxesSubplot:xlabel='Parch', ylabel='count'>"
     },
     "execution_count": 333,
     "metadata": {},
     "output_type": "execute_result"
    },
    {
     "data": {
      "text/plain": "<Figure size 432x288 with 1 Axes>",
      "image/png": "[encoded data removed]"
     },
     "metadata": {
      "needs_background": "light"
     },
     "output_type": "display_data"
    }
   ],
   "source": [
    "# Parch - parent / child\n",
    "sns.countplot(x=\"Parch\",data=XTRAIN)"
   ],
   "metadata": {
    "collapsed": false,
    "pycharm": {
     "name": "#%%\n"
    }
   }
  },
  {
   "cell_type": "code",
   "execution_count": 334,
   "outputs": [
    {
     "data": {
      "text/plain": "<AxesSubplot:xlabel='SibSp', ylabel='count'>"
     },
     "execution_count": 334,
     "metadata": {},
     "output_type": "execute_result"
    },
    {
     "data": {
      "text/plain": "<Figure size 432x288 with 1 Axes>",
      "image/png": "[encoded data removed]"
     },
     "metadata": {
      "needs_background": "light"
     },
     "output_type": "display_data"
    }
   ],
   "source": [
    "# SibSP - Sibling, spouse (rodzeństwo, małżonek)\n",
    "sns.countplot(x=\"SibSp\",data=XTRAIN)"
   ],
   "metadata": {
    "collapsed": false,
    "pycharm": {
     "name": "#%%\n"
    }
   }
  },
  {
   "cell_type": "code",
   "execution_count": 335,
   "outputs": [
    {
     "data": {
      "text/plain": "<AxesSubplot:xlabel='Pclass', ylabel='count'>"
     },
     "execution_count": 335,
     "metadata": {},
     "output_type": "execute_result"
    },
    {
     "data": {
      "text/plain": "<Figure size 432x288 with 1 Axes>",
      "image/png": "[encoded data removed]"
     },
     "metadata": {
      "needs_background": "light"
     },
     "output_type": "display_data"
    }
   ],
   "source": [
    "# sns.distplot(x=XTRAIN.Fare,hist=True)\n",
    "sns.countplot(x=\"Pclass\",data=XTRAIN)"
   ],
   "metadata": {
    "collapsed": false,
    "pycharm": {
     "name": "#%%\n"
    }
   }
  },
  {
   "cell_type": "code",
   "execution_count": 336,
   "outputs": [
    {
     "data": {
      "text/plain": "<AxesSubplot:xlabel='Fare', ylabel='count'>"
     },
     "execution_count": 336,
     "metadata": {},
     "output_type": "execute_result"
    },
    {
     "data": {
      "text/plain": "<Figure size 432x288 with 1 Axes>",
      "image/png": "[encoded data removed]"
     },
     "metadata": {
      "needs_background": "light"
     },
     "output_type": "display_data"
    }
   ],
   "source": [
    "# Fare (opłata)\n",
    "sns.countplot(x=\"Fare\",data=XTRAIN)"
   ],
   "metadata": {
    "collapsed": false,
    "pycharm": {
     "name": "#%%\n"
    }
   }
  },
  {
   "cell_type": "code",
   "execution_count": 337,
   "outputs": [
    {
     "data": {
      "text/plain": "<AxesSubplot:xlabel='Embarked', ylabel='count'>"
     },
     "execution_count": 337,
     "metadata": {},
     "output_type": "execute_result"
    },
    {
     "data": {
      "text/plain": "<Figure size 432x288 with 1 Axes>",
      "image/png": "[encoded data removed]"
     },
     "metadata": {
      "needs_background": "light"
     },
     "output_type": "display_data"
    }
   ],
   "source": [
    "# Embarked - name of the city: S - Southampton, C - Cherbourg, Q - Queenstown (zaokrętowany)\n",
    "sns.countplot(x=\"Embarked\",data=XTRAIN)"
   ],
   "metadata": {
    "collapsed": false,
    "pycharm": {
     "name": "#%%\n"
    }
   }
  },
  {
   "cell_type": "code",
   "execution_count": 338,
   "outputs": [
    {
     "data": {
      "text/plain": "<AxesSubplot:xlabel='Age', ylabel='count'>"
     },
     "execution_count": 338,
     "metadata": {},
     "output_type": "execute_result"
    },
    {
     "data": {
      "text/plain": "<Figure size 432x288 with 1 Axes>",
      "image/png": "[encoded data removed]"
     },
     "metadata": {
      "needs_background": "light"
     },
     "output_type": "display_data"
    }
   ],
   "source": [
    "sns.countplot(x=\"Age\",data=XTRAIN)\n"
   ],
   "metadata": {
    "collapsed": false,
    "pycharm": {
     "name": "#%%\n"
    }
   }
  },
  {
   "cell_type": "markdown",
   "source": [
    "Correlations between data"
   ],
   "metadata": {
    "collapsed": false,
    "pycharm": {
     "name": "#%% md\n"
    }
   }
  },
  {
   "cell_type": "code",
   "execution_count": 339,
   "outputs": [
    {
     "data": {
      "text/plain": "<AxesSubplot:>"
     },
     "execution_count": 339,
     "metadata": {},
     "output_type": "execute_result"
    },
    {
     "data": {
      "text/plain": "<Figure size 864x720 with 2 Axes>",
      "image/png": "[encoded data removed]"
     },
     "metadata": {
      "needs_background": "light"
     },
     "output_type": "display_data"
    }
   ],
   "source": [
    "# Heatmap\n",
    "data_correlations = XTRAIN.corr()\n",
    "fig, ax = plt.subplots(figsize=(12, 10))\n",
    "\n",
    "sns.heatmap(data_correlations, annot=True)\n",
    "\n",
    "# Pclass / Fare - Survived correlation\n",
    "# Fare - Pclass - neg correlated, one of these could be removed\n",
    "# Parch - SibSp\n"
   ],
   "metadata": {
    "collapsed": false,
    "pycharm": {
     "name": "#%%\n"
    }
   }
  },
  {
   "cell_type": "code",
   "execution_count": 340,
   "outputs": [
    {
     "data": {
      "text/plain": "<AxesSubplot:xlabel='Sex', ylabel='count'>"
     },
     "execution_count": 340,
     "metadata": {},
     "output_type": "execute_result"
    },
    {
     "data": {
      "text/plain": "<Figure size 432x288 with 1 Axes>",
      "image/png": "[encoded data removed]"
     },
     "metadata": {
      "needs_background": "light"
     },
     "output_type": "display_data"
    }
   ],
   "source": [
    "sns.countplot(x=\"Sex\",hue=\"Survived\",data=XTRAIN)\n",
    "\n",
    "# mostly men died"
   ],
   "metadata": {
    "collapsed": false,
    "pycharm": {
     "name": "#%%\n"
    }
   }
  },
  {
   "cell_type": "code",
   "execution_count": 341,
   "outputs": [
    {
     "data": {
      "text/plain": "<AxesSubplot:xlabel='Fare', ylabel='count'>"
     },
     "execution_count": 341,
     "metadata": {},
     "output_type": "execute_result"
    },
    {
     "data": {
      "text/plain": "<Figure size 432x288 with 1 Axes>",
      "image/png": "[encoded data removed]"
     },
     "metadata": {
      "needs_background": "light"
     },
     "output_type": "display_data"
    }
   ],
   "source": [
    "sns.countplot(x=\"Fare\",hue=\"Survived\",data=XTRAIN)\n",
    "\n",
    "# the lower Fare"
   ],
   "metadata": {
    "collapsed": false,
    "pycharm": {
     "name": "#%%\n"
    }
   }
  },
  {
   "cell_type": "code",
   "execution_count": 342,
   "outputs": [
    {
     "data": {
      "text/plain": "<AxesSubplot:xlabel='Pclass', ylabel='count'>"
     },
     "execution_count": 342,
     "metadata": {},
     "output_type": "execute_result"
    },
    {
     "data": {
      "text/plain": "<Figure size 432x288 with 1 Axes>",
      "image/png": "[encoded data removed]"
     },
     "metadata": {
      "needs_background": "light"
     },
     "output_type": "display_data"
    }
   ],
   "source": [
    "sns.countplot(x=\"Pclass\",hue=\"Survived\",data=XTRAIN)\n",
    "\n",
    "# mostly people from 3rd class died\n",
    "# these data is much cleaner than Fare and shows the same"
   ],
   "metadata": {
    "collapsed": false,
    "pycharm": {
     "name": "#%%\n"
    }
   }
  },
  {
   "cell_type": "code",
   "execution_count": 343,
   "outputs": [
    {
     "data": {
      "text/plain": "<AxesSubplot:xlabel='SibSp', ylabel='count'>"
     },
     "execution_count": 343,
     "metadata": {},
     "output_type": "execute_result"
    },
    {
     "data": {
      "text/plain": "<Figure size 432x288 with 1 Axes>",
      "image/png": "[encoded data removed]"
     },
     "metadata": {
      "needs_background": "light"
     },
     "output_type": "display_data"
    }
   ],
   "source": [
    "sns.countplot(x=\"SibSp\",hue=\"Survived\",data=XTRAIN)\n",
    "\n",
    "# most of victims were alone"
   ],
   "metadata": {
    "collapsed": false,
    "pycharm": {
     "name": "#%%\n"
    }
   }
  },
  {
   "cell_type": "code",
   "execution_count": 344,
   "outputs": [
    {
     "data": {
      "text/plain": "<AxesSubplot:xlabel='Age', ylabel='count'>"
     },
     "execution_count": 344,
     "metadata": {},
     "output_type": "execute_result"
    },
    {
     "data": {
      "text/plain": "<Figure size 432x288 with 1 Axes>",
      "image/png": "[encoded data removed]"
     },
     "metadata": {
      "needs_background": "light"
     },
     "output_type": "display_data"
    }
   ],
   "source": [
    "sns.countplot(x=\"Age\",hue=\"Survived\",data=XTRAIN)\n"
   ],
   "metadata": {
    "collapsed": false,
    "pycharm": {
     "name": "#%%\n"
    }
   }
  },
  {
   "cell_type": "code",
   "execution_count": 345,
   "id": "3c16a414",
   "metadata": {},
   "outputs": [
    {
     "data": {
      "text/plain": "   PassengerId  Survived  Pclass  \\\n0            1         0       3   \n1            2         1       1   \n2            3         1       3   \n3            4         1       1   \n4            5         0       3   \n\n                                                Name     Sex   Age  SibSp  \\\n0                            Braund, Mr. Owen Harris    male  22.0      1   \n1  Cumings, Mrs. John Bradley (Florence Briggs Th...  female  38.0      1   \n2                             Heikkinen, Miss. Laina  female  26.0      0   \n3       Futrelle, Mrs. Jacques Heath (Lily May Peel)  female  35.0      1   \n4                           Allen, Mr. William Henry    male  35.0      0   \n\n   Parch            Ticket     Fare Cabin Embarked  \n0      0         A/5 21171   7.2500   NaN        S  \n1      0          PC 17599  71.2833   C85        C  \n2      0  STON/O2. 3101282   7.9250   NaN        S  \n3      0            113803  53.1000  C123        S  \n4      0            373450   8.0500   NaN        S  ",
      "text/html": "<div>\n<style scoped>\n    .dataframe tbody tr th:only-of-type {\n        vertical-align: middle;\n    }\n\n    .dataframe tbody tr th {\n        vertical-align: top;\n    }\n\n    .dataframe thead th {\n        text-align: right;\n    }\n</style>\n<table border=\"1\" class=\"dataframe\">\n  <thead>\n    <tr style=\"text-align: right;\">\n      <th></th>\n      <th>PassengerId</th>\n      <th>Survived</th>\n      <th>Pclass</th>\n      <th>Name</th>\n      <th>Sex</th>\n      <th>Age</th>\n      <th>SibSp</th>\n      <th>Parch</th>\n      <th>Ticket</th>\n      <th>Fare</th>\n      <th>Cabin</th>\n      <th>Embarked</th>\n    </tr>\n  </thead>\n  <tbody>\n    <tr>\n      <th>0</th>\n      <td>1</td>\n      <td>0</td>\n      <td>3</td>\n      <td>Braund, Mr. Owen Harris</td>\n      <td>male</td>\n      <td>22.0</td>\n      <td>1</td>\n      <td>0</td>\n      <td>A/5 21171</td>\n      <td>7.2500</td>\n      <td>NaN</td>\n      <td>S</td>\n    </tr>\n    <tr>\n      <th>1</th>\n      <td>2</td>\n      <td>1</td>\n      <td>1</td>\n      <td>Cumings, Mrs. John Bradley (Florence Briggs Th...</td>\n      <td>female</td>\n      <td>38.0</td>\n      <td>1</td>\n      <td>0</td>\n      <td>PC 17599</td>\n      <td>71.2833</td>\n      <td>C85</td>\n      <td>C</td>\n    </tr>\n    <tr>\n      <th>2</th>\n      <td>3</td>\n      <td>1</td>\n      <td>3</td>\n      <td>Heikkinen, Miss. Laina</td>\n      <td>female</td>\n      <td>26.0</td>\n      <td>0</td>\n      <td>0</td>\n      <td>STON/O2. 3101282</td>\n      <td>7.9250</td>\n      <td>NaN</td>\n      <td>S</td>\n    </tr>\n    <tr>\n      <th>3</th>\n      <td>4</td>\n      <td>1</td>\n      <td>1</td>\n      <td>Futrelle, Mrs. Jacques Heath (Lily May Peel)</td>\n      <td>female</td>\n      <td>35.0</td>\n      <td>1</td>\n      <td>0</td>\n      <td>113803</td>\n      <td>53.1000</td>\n      <td>C123</td>\n      <td>S</td>\n    </tr>\n    <tr>\n      <th>4</th>\n      <td>5</td>\n      <td>0</td>\n      <td>3</td>\n      <td>Allen, Mr. William Henry</td>\n      <td>male</td>\n      <td>35.0</td>\n      <td>0</td>\n      <td>0</td>\n      <td>373450</td>\n      <td>8.0500</td>\n      <td>NaN</td>\n      <td>S</td>\n    </tr>\n  </tbody>\n</table>\n</div>"
     },
     "execution_count": 345,
     "metadata": {},
     "output_type": "execute_result"
    }
   ],
   "source": [
    "XTRAIN.head()"
   ]
  },
  {
   "cell_type": "code",
   "execution_count": 346,
   "id": "10465696",
   "metadata": {},
   "outputs": [
    {
     "data": {
      "text/plain": "PassengerId      0\nSurvived         0\nPclass           0\nName             0\nSex              0\nAge            177\nSibSp            0\nParch            0\nTicket           0\nFare             0\nCabin          687\nEmbarked         2\ndtype: int64"
     },
     "execution_count": 346,
     "metadata": {},
     "output_type": "execute_result"
    }
   ],
   "source": [
    "# Preparing data preprocessing\n",
    "\n",
    "# As we can see, Cabin has only 210 not-null records (out of 891), so it may be dropped as not helpful.\n",
    "# Let's see more details about nulls:\n",
    "XTRAIN.isnull().sum()\n",
    "# Age - has some missing data, let's fill that up with an average\n",
    "# for missing Embarked we can drop these 2 records"
   ]
  },
  {
   "cell_type": "code",
   "execution_count": 347,
   "id": "d26198e2",
   "metadata": {},
   "outputs": [
    {
     "data": {
      "text/plain": "PassengerId      0\nPclass           0\nName             0\nSex              0\nAge             86\nSibSp            0\nParch            0\nTicket           0\nFare             1\nCabin          327\nEmbarked         0\ndtype: int64"
     },
     "execution_count": 347,
     "metadata": {},
     "output_type": "execute_result"
    }
   ],
   "source": [
    "# for the test data we have similar situation with Age, \n",
    "# also 1 Fare is missing (will drop that record)\n",
    "XTEST.isnull().sum()"
   ]
  },
  {
   "cell_type": "code",
   "execution_count": 348,
   "id": "0eb91d59",
   "metadata": {},
   "outputs": [
    {
     "data": {
      "text/plain": "   PassengerId  Survived  Pclass  \\\n0            1         0       3   \n1            2         1       1   \n2            3         1       3   \n3            4         1       1   \n4            5         0       3   \n\n                                                Name     Sex   Age  SibSp  \\\n0                            Braund, Mr. Owen Harris    male  22.0      1   \n1  Cumings, Mrs. John Bradley (Florence Briggs Th...  female  38.0      1   \n2                             Heikkinen, Miss. Laina  female  26.0      0   \n3       Futrelle, Mrs. Jacques Heath (Lily May Peel)  female  35.0      1   \n4                           Allen, Mr. William Henry    male  35.0      0   \n\n   Parch            Ticket     Fare Cabin Embarked  \n0      0         A/5 21171   7.2500   NaN        S  \n1      0          PC 17599  71.2833   C85        C  \n2      0  STON/O2. 3101282   7.9250   NaN        S  \n3      0            113803  53.1000  C123        S  \n4      0            373450   8.0500   NaN        S  ",
      "text/html": "<div>\n<style scoped>\n    .dataframe tbody tr th:only-of-type {\n        vertical-align: middle;\n    }\n\n    .dataframe tbody tr th {\n        vertical-align: top;\n    }\n\n    .dataframe thead th {\n        text-align: right;\n    }\n</style>\n<table border=\"1\" class=\"dataframe\">\n  <thead>\n    <tr style=\"text-align: right;\">\n      <th></th>\n      <th>PassengerId</th>\n      <th>Survived</th>\n      <th>Pclass</th>\n      <th>Name</th>\n      <th>Sex</th>\n      <th>Age</th>\n      <th>SibSp</th>\n      <th>Parch</th>\n      <th>Ticket</th>\n      <th>Fare</th>\n      <th>Cabin</th>\n      <th>Embarked</th>\n    </tr>\n  </thead>\n  <tbody>\n    <tr>\n      <th>0</th>\n      <td>1</td>\n      <td>0</td>\n      <td>3</td>\n      <td>Braund, Mr. Owen Harris</td>\n      <td>male</td>\n      <td>22.0</td>\n      <td>1</td>\n      <td>0</td>\n      <td>A/5 21171</td>\n      <td>7.2500</td>\n      <td>NaN</td>\n      <td>S</td>\n    </tr>\n    <tr>\n      <th>1</th>\n      <td>2</td>\n      <td>1</td>\n      <td>1</td>\n      <td>Cumings, Mrs. John Bradley (Florence Briggs Th...</td>\n      <td>female</td>\n      <td>38.0</td>\n      <td>1</td>\n      <td>0</td>\n      <td>PC 17599</td>\n      <td>71.2833</td>\n      <td>C85</td>\n      <td>C</td>\n    </tr>\n    <tr>\n      <th>2</th>\n      <td>3</td>\n      <td>1</td>\n      <td>3</td>\n      <td>Heikkinen, Miss. Laina</td>\n      <td>female</td>\n      <td>26.0</td>\n      <td>0</td>\n      <td>0</td>\n      <td>STON/O2. 3101282</td>\n      <td>7.9250</td>\n      <td>NaN</td>\n      <td>S</td>\n    </tr>\n    <tr>\n      <th>3</th>\n      <td>4</td>\n      <td>1</td>\n      <td>1</td>\n      <td>Futrelle, Mrs. Jacques Heath (Lily May Peel)</td>\n      <td>female</td>\n      <td>35.0</td>\n      <td>1</td>\n      <td>0</td>\n      <td>113803</td>\n      <td>53.1000</td>\n      <td>C123</td>\n      <td>S</td>\n    </tr>\n    <tr>\n      <th>4</th>\n      <td>5</td>\n      <td>0</td>\n      <td>3</td>\n      <td>Allen, Mr. William Henry</td>\n      <td>male</td>\n      <td>35.0</td>\n      <td>0</td>\n      <td>0</td>\n      <td>373450</td>\n      <td>8.0500</td>\n      <td>NaN</td>\n      <td>S</td>\n    </tr>\n  </tbody>\n</table>\n</div>"
     },
     "execution_count": 348,
     "metadata": {},
     "output_type": "execute_result"
    }
   ],
   "source": [
    "# Cabin - besides many empty records it also doesn't look like something interesting, will probably drop it completely.\n",
    "XTRAIN.head()"
   ]
  },
  {
   "cell_type": "code",
   "execution_count": 349,
   "id": "c585efe9",
   "metadata": {},
   "outputs": [
    {
     "data": {
      "text/plain": "                           Name   Sex  Ticket    Cabin Embarked\ncount                       891   891     891      204      889\nunique                      891     2     681      147        3\ntop     Braund, Mr. Owen Harris  male  347082  B96 B98        S\nfreq                          1   577       7        4      644",
      "text/html": "<div>\n<style scoped>\n    .dataframe tbody tr th:only-of-type {\n        vertical-align: middle;\n    }\n\n    .dataframe tbody tr th {\n        vertical-align: top;\n    }\n\n    .dataframe thead th {\n        text-align: right;\n    }\n</style>\n<table border=\"1\" class=\"dataframe\">\n  <thead>\n    <tr style=\"text-align: right;\">\n      <th></th>\n      <th>Name</th>\n      <th>Sex</th>\n      <th>Ticket</th>\n      <th>Cabin</th>\n      <th>Embarked</th>\n    </tr>\n  </thead>\n  <tbody>\n    <tr>\n      <th>count</th>\n      <td>891</td>\n      <td>891</td>\n      <td>891</td>\n      <td>204</td>\n      <td>889</td>\n    </tr>\n    <tr>\n      <th>unique</th>\n      <td>891</td>\n      <td>2</td>\n      <td>681</td>\n      <td>147</td>\n      <td>3</td>\n    </tr>\n    <tr>\n      <th>top</th>\n      <td>Braund, Mr. Owen Harris</td>\n      <td>male</td>\n      <td>347082</td>\n      <td>B96 B98</td>\n      <td>S</td>\n    </tr>\n    <tr>\n      <th>freq</th>\n      <td>1</td>\n      <td>577</td>\n      <td>7</td>\n      <td>4</td>\n      <td>644</td>\n    </tr>\n  </tbody>\n</table>\n</div>"
     },
     "execution_count": 349,
     "metadata": {},
     "output_type": "execute_result"
    }
   ],
   "source": [
    "# Also, columns: Ticket, Name will be dropped as they have only unique strings, so they can't become Categorical columns\n",
    "# Sex, Embarked - will be converted to Categorical\n",
    "\n",
    "XTRAIN.describe(include='object')"
   ]
  },
  {
   "cell_type": "markdown",
   "source": [],
   "metadata": {
    "collapsed": false
   }
  },
  {
   "cell_type": "markdown",
   "source": [],
   "metadata": {
    "collapsed": false
   }
  },
  {
   "cell_type": "code",
   "execution_count": 350,
   "id": "c82bc9dc",
   "metadata": {},
   "outputs": [
    {
     "data": {
      "text/plain": "                    Name   Sex    Ticket            Cabin Embarked\ncount                418   418       418               91      418\nunique               418     2       363               76        3\ntop     Kelly, Mr. James  male  PC 17608  B57 B59 B63 B66        S\nfreq                   1   266         5                3      270",
      "text/html": "<div>\n<style scoped>\n    .dataframe tbody tr th:only-of-type {\n        vertical-align: middle;\n    }\n\n    .dataframe tbody tr th {\n        vertical-align: top;\n    }\n\n    .dataframe thead th {\n        text-align: right;\n    }\n</style>\n<table border=\"1\" class=\"dataframe\">\n  <thead>\n    <tr style=\"text-align: right;\">\n      <th></th>\n      <th>Name</th>\n      <th>Sex</th>\n      <th>Ticket</th>\n      <th>Cabin</th>\n      <th>Embarked</th>\n    </tr>\n  </thead>\n  <tbody>\n    <tr>\n      <th>count</th>\n      <td>418</td>\n      <td>418</td>\n      <td>418</td>\n      <td>91</td>\n      <td>418</td>\n    </tr>\n    <tr>\n      <th>unique</th>\n      <td>418</td>\n      <td>2</td>\n      <td>363</td>\n      <td>76</td>\n      <td>3</td>\n    </tr>\n    <tr>\n      <th>top</th>\n      <td>Kelly, Mr. James</td>\n      <td>male</td>\n      <td>PC 17608</td>\n      <td>B57 B59 B63 B66</td>\n      <td>S</td>\n    </tr>\n    <tr>\n      <th>freq</th>\n      <td>1</td>\n      <td>266</td>\n      <td>5</td>\n      <td>3</td>\n      <td>270</td>\n    </tr>\n  </tbody>\n</table>\n</div>"
     },
     "execution_count": 350,
     "metadata": {},
     "output_type": "execute_result"
    }
   ],
   "source": [
    "XTEST.describe(include='object')"
   ]
  },
  {
   "cell_type": "code",
   "execution_count": 351,
   "id": "138f5844",
   "metadata": {},
   "outputs": [
    {
     "data": {
      "text/plain": "S    644\nC    168\nQ     77\nName: Embarked, dtype: int64"
     },
     "execution_count": 351,
     "metadata": {},
     "output_type": "execute_result"
    }
   ],
   "source": [
    "# Let's see what we can do with missing Embarked values.\n",
    "# Below you can see that the most frequent value is 'S'.\n",
    "XTRAIN.Embarked.value_counts()\n",
    "\n",
    "# Let's fill empty Embarked values with 'S' as this is the most common one.\n"
   ]
  },
  {
   "cell_type": "code",
   "execution_count": 352,
   "id": "66be59ca",
   "metadata": {},
   "outputs": [
    {
     "data": {
      "text/plain": "S    270\nC    102\nQ     46\nName: Embarked, dtype: int64"
     },
     "execution_count": 352,
     "metadata": {},
     "output_type": "execute_result"
    }
   ],
   "source": [
    "# Same for the test data.\n",
    "XTEST.Embarked.value_counts()\n",
    "\n",
    "# Name - I will try to findout if being a member of family gave any better chance of survival. \n",
    "# Therefore, I will try to export surnames to separate column and then calculate a family size for each member.\n",
    "\n",
    "# Below we can see that Surname has now 666 unique values of 891 total.\n",
    "# So, itself it doesn't look like a good Categorical column"
   ]
  },
  {
   "cell_type": "markdown",
   "id": "2c65cbc8",
   "metadata": {
    "pycharm": {
     "name": "#%% md\n"
    }
   },
   "source": [
    "\n",
    "PREPROCESSING DATA\n"
   ]
  },
  {
   "cell_type": "code",
   "execution_count": 353,
   "id": "d27905c4",
   "metadata": {},
   "outputs": [
    {
     "data": {
      "text/plain": "    Survived  scale_fare  Embarked_S  is_woman  is_child  is_class_1\n1          1    3.564165           0         1         0           1\n3          1    2.655000           1         1         0           1\n6          0    2.593125           1         0         0           1\n10         1    0.835000           1         1         1           0\n11         1    1.327500           1         1         0           1",
      "text/html": "<div>\n<style scoped>\n    .dataframe tbody tr th:only-of-type {\n        vertical-align: middle;\n    }\n\n    .dataframe tbody tr th {\n        vertical-align: top;\n    }\n\n    .dataframe thead th {\n        text-align: right;\n    }\n</style>\n<table border=\"1\" class=\"dataframe\">\n  <thead>\n    <tr style=\"text-align: right;\">\n      <th></th>\n      <th>Survived</th>\n      <th>scale_fare</th>\n      <th>Embarked_S</th>\n      <th>is_woman</th>\n      <th>is_child</th>\n      <th>is_class_1</th>\n    </tr>\n  </thead>\n  <tbody>\n    <tr>\n      <th>1</th>\n      <td>1</td>\n      <td>3.564165</td>\n      <td>0</td>\n      <td>1</td>\n      <td>0</td>\n      <td>1</td>\n    </tr>\n    <tr>\n      <th>3</th>\n      <td>1</td>\n      <td>2.655000</td>\n      <td>1</td>\n      <td>1</td>\n      <td>0</td>\n      <td>1</td>\n    </tr>\n    <tr>\n      <th>6</th>\n      <td>0</td>\n      <td>2.593125</td>\n      <td>1</td>\n      <td>0</td>\n      <td>0</td>\n      <td>1</td>\n    </tr>\n    <tr>\n      <th>10</th>\n      <td>1</td>\n      <td>0.835000</td>\n      <td>1</td>\n      <td>1</td>\n      <td>1</td>\n      <td>0</td>\n    </tr>\n    <tr>\n      <th>11</th>\n      <td>1</td>\n      <td>1.327500</td>\n      <td>1</td>\n      <td>1</td>\n      <td>0</td>\n      <td>1</td>\n    </tr>\n  </tbody>\n</table>\n</div>"
     },
     "execution_count": 353,
     "metadata": {},
     "output_type": "execute_result"
    }
   ],
   "source": [
    "# find surnames in Name column \n",
    "def get_surname(name):\n",
    "    reg = re.compile('([A-Za-z]+),')\n",
    "    return reg.findall(name)[0]\n",
    "\n",
    "\n",
    "\n",
    "# let's define function that will do all the preprocessing discussed above\n",
    "def preprocess_data(df):\n",
    "    # replace empty ages with an average\n",
    "    df['Age'].fillna(df[\"Age\"].mean(), inplace=True)\n",
    "\n",
    "    # fill missing embarked values with the most common one\n",
    "    df['Embarked'].fillna('S', inplace=True)\n",
    "\n",
    "    # scaling down Fare numbers\n",
    "    df[\"scale_fare\"] = df[\"Fare\"]/20\n",
    "\n",
    "    df[\"is_child\"] = df[\"Age\"]<18\n",
    "# df['two'].between(-0.5, 0.5, inclusive=False)\n",
    "#     df[\"is_young\"] = df[\"Age\"].between(18, 35, inclusive=True)\n",
    "#     df[\"is_midage\"] = df[\"Age\"].between(35, 65, inclusive=False)\n",
    "#     df[\"is_old\"] = df[\"Age\"]>=65\n",
    "\n",
    "\n",
    "    # df.drop(['Name', 'Cabin', 'Ticket', 'PassengerId', 'Fare', 'Sex_female', 'Sex_male', 'Age'], axis='columns', inplace=True)\n",
    "\n",
    "    # dropping rows with empty records\n",
    "    df.dropna(inplace=True)\n",
    "    \n",
    "    # converting Categorical cols into numbers\n",
    "    df = pd.get_dummies(df, columns=[\"Pclass\",\"Embarked\", \"Sex\", \"is_child\"])\n",
    "    # , \"is_midage\", \"is_young\", \"is_old\"\n",
    "    df[\"is_woman\"] = df[\"Sex_female\"]\n",
    "    df[\"is_child\"] = df[\"is_child_True\"]\n",
    "    # df[\"is_midage\"] = df[\"is_midage_True\"]\n",
    "    # df[\"is_young\"] = df[\"is_young_True\"]\n",
    "    # df[\"is_old\"] = df[\"is_old_True\"]\n",
    "    df[\"is_class_1\"] = df[\"Pclass_1\"]\n",
    "\n",
    "    # \"Pclass_2\", \"Pclass_3\" are neg correlated to Pclass_1\n",
    "\n",
    "    # PassengerId seems to be just a record ID without any importance - also to be dropped.\n",
    "    df.drop(['Name', 'Cabin', 'Ticket', 'PassengerId', 'Fare', 'Sex_female', 'Sex_male', 'Age', 'SibSp', 'Parch'], axis='columns', inplace=True)\n",
    "    df.drop(['Embarked_Q', \"Embarked_C\", \"is_child_True\", \"is_child_False\"], axis='columns', inplace=True)\n",
    "    # df.drop([\"is_midage_True\", \"is_midage_False\", \"is_young_True\", \"is_young_False\", \"is_old_True\", \"is_old_False\"], axis='columns', inplace=True)\n",
    "    df.drop([\"Pclass_1\", \"Pclass_2\", \"Pclass_3\"], axis='columns', inplace=True)\n",
    "\n",
    "    return df\n",
    "\n",
    "# and run the preprocessing on both train and test data\n",
    "X = preprocess_data(XTRAIN)\n",
    "XTEST = preprocess_data(XTEST)\n",
    "\n",
    "X.head()"
   ]
  },
  {
   "cell_type": "code",
   "execution_count": 354,
   "outputs": [
    {
     "name": "stdout",
     "output_type": "stream",
     "text": [
      "<class 'pandas.core.frame.DataFrame'>\n",
      "Int64Index: 204 entries, 1 to 889\n",
      "Data columns (total 6 columns):\n",
      " #   Column      Non-Null Count  Dtype  \n",
      "---  ------      --------------  -----  \n",
      " 0   Survived    204 non-null    int64  \n",
      " 1   scale_fare  204 non-null    float64\n",
      " 2   Embarked_S  204 non-null    uint8  \n",
      " 3   is_woman    204 non-null    uint8  \n",
      " 4   is_child    204 non-null    uint8  \n",
      " 5   is_class_1  204 non-null    uint8  \n",
      "dtypes: float64(1), int64(1), uint8(4)\n",
      "memory usage: 5.6 KB\n"
     ]
    }
   ],
   "source": [
    "X.info()"
   ],
   "metadata": {
    "collapsed": false,
    "pycharm": {
     "name": "#%%\n"
    }
   }
  },
  {
   "cell_type": "code",
   "execution_count": 355,
   "id": "9114d06d",
   "metadata": {},
   "outputs": [
    {
     "data": {
      "text/plain": "Survived      0\nscale_fare    0\nEmbarked_S    0\nis_woman      0\nis_child      0\nis_class_1    0\ndtype: int64"
     },
     "execution_count": 355,
     "metadata": {},
     "output_type": "execute_result"
    }
   ],
   "source": [
    "X.isnull().sum()"
   ]
  },
  {
   "cell_type": "code",
   "execution_count": 356,
   "id": "8297bc7e",
   "metadata": {},
   "outputs": [
    {
     "data": {
      "text/plain": "scale_fare    0\nEmbarked_S    0\nis_woman      0\nis_child      0\nis_class_1    0\ndtype: int64"
     },
     "execution_count": 356,
     "metadata": {},
     "output_type": "execute_result"
    }
   ],
   "source": [
    "XTEST.isnull().sum()"
   ]
  },
  {
   "cell_type": "code",
   "execution_count": 357,
   "id": "91cc684f",
   "metadata": {},
   "outputs": [],
   "source": [
    "\n",
    "# ANALYZING RELATIONS BETWEEN THE DATA\n"
   ]
  },
  {
   "cell_type": "code",
   "execution_count": 358,
   "id": "2e0d63e6",
   "metadata": {},
   "outputs": [
    {
     "data": {
      "text/plain": "<AxesSubplot:>"
     },
     "execution_count": 358,
     "metadata": {},
     "output_type": "execute_result"
    },
    {
     "data": {
      "text/plain": "<Figure size 864x720 with 2 Axes>",
      "image/png": "[encoded data removed]"
     },
     "metadata": {
      "needs_background": "light"
     },
     "output_type": "display_data"
    }
   ],
   "source": [
    "# Heatmap\n",
    "data_correlations = X.corr()\n",
    "plt.subplots(figsize=(12, 10))\n",
    "\n",
    "sns.heatmap(data_correlations, annot=True)\n",
    "\n",
    "# Fare vs Passenger class neg correlation means that the higher class number the lower the price for it\n",
    "# we can also see that the correlation between Sex and Survival is not interesting as both male and female got about 50%\n",
    "# there is quite logical correlation between FamilySize, Sibling/Spouse and Parent/Child (between 60-67%)\n",
    "# Also interesting but small correlation (26%) between Fare and Survival"
   ]
  },
  {
   "cell_type": "code",
   "execution_count": 359,
   "id": "5b704d4d",
   "metadata": {},
   "outputs": [
    {
     "name": "stdout",
     "output_type": "stream",
     "text": [
      "<class 'pandas.core.frame.DataFrame'>\n",
      "Int64Index: 204 entries, 1 to 889\n",
      "Data columns (total 5 columns):\n",
      " #   Column      Non-Null Count  Dtype  \n",
      "---  ------      --------------  -----  \n",
      " 0   scale_fare  204 non-null    float64\n",
      " 1   Embarked_S  204 non-null    uint8  \n",
      " 2   is_woman    204 non-null    uint8  \n",
      " 3   is_child    204 non-null    uint8  \n",
      " 4   is_class_1  204 non-null    uint8  \n",
      "dtypes: float64(1), uint8(4)\n",
      "memory usage: 4.0 KB\n"
     ]
    }
   ],
   "source": [
    "# Let's separate target from features\n",
    "y = X['Survived']\n",
    "X = X.drop(['Survived'], axis=1)\n",
    "X.info()"
   ]
  },
  {
   "cell_type": "code",
   "execution_count": 360,
   "id": "642c3498",
   "metadata": {},
   "outputs": [
    {
     "name": "stdout",
     "output_type": "stream",
     "text": [
      "<class 'pandas.core.frame.DataFrame'>\n",
      "Int64Index: 163 entries, 515 to 745\n",
      "Data columns (total 5 columns):\n",
      " #   Column      Non-Null Count  Dtype  \n",
      "---  ------      --------------  -----  \n",
      " 0   scale_fare  163 non-null    float64\n",
      " 1   Embarked_S  163 non-null    uint8  \n",
      " 2   is_woman    163 non-null    uint8  \n",
      " 3   is_child    163 non-null    uint8  \n",
      " 4   is_class_1  163 non-null    uint8  \n",
      "dtypes: float64(1), uint8(4)\n",
      "memory usage: 3.2 KB\n"
     ]
    }
   ],
   "source": [
    "# Splitting train data\n",
    "X_train, X_valid, y_train, y_valid = train_test_split(X, y, train_size=0.8, test_size=0.2, random_state=0)\n",
    "X_train.info()\n",
    "# as we can see the number of records in train data is lower now"
   ]
  },
  {
   "cell_type": "markdown",
   "id": "1139f3ba",
   "metadata": {
    "pycharm": {
     "name": "#%% md\n"
    }
   },
   "source": [
    "\n",
    "# TRAINING & HYPERPARAMS TUNING FOR DIFFERENT MODELS. SELECTING BEST RESULTS\n",
    "\n",
    "# METHOD 2\n",
    "\n"
   ]
  },
  {
   "cell_type": "code",
   "execution_count": 365,
   "id": "2c5d9fa4",
   "metadata": {},
   "outputs": [
    {
     "name": "stdout",
     "output_type": "stream",
     "text": [
      "GradientBoostingClassifier\n",
      "Fitting 5 folds for each of 90 candidates, totalling 450 fits\n",
      "{'learning_rate': 0.015, 'max_depth': 4, 'n_estimators': 1200}\n",
      "0.8227272727272726\n",
      "GradientBoostingClassifier\n",
      "Fitting 5 folds for each of 54 candidates, totalling 270 fits\n",
      "{'learning_rate': 0.045000000000000005, 'max_depth': 4, 'n_estimators': 350}\n",
      "0.8227272727272726\n",
      "Done.\n"
     ]
    }
   ],
   "source": [
    "# In the mean time I finished a Pluralsight course about Classification Models \n",
    "# (Recommended: https://app.pluralsight.com/course-player?clipId=bc93208b-396f-4a58-b8b2-2013933c28da)\n",
    "# And I learnt another hyperparams tuning implementation using GridSearchCV.\n",
    "\n",
    "def get_model_name(trained_model_obj):\n",
    "    reg = re.compile('([A-Za-z]+)\\(')\n",
    "    return reg.findall(trained_model_obj.__str__())[0]\n",
    "\n",
    "\n",
    "def print_gridcv_results(model, trainedModel):\n",
    "    results = model.cv_results_\n",
    "    # print(results)\n",
    "    best_params = model.best_params_\n",
    "    \n",
    "    trained_model_name = get_model_name(trainedModel)\n",
    "\n",
    "    print('Model: ', trained_model_name)\n",
    "    for i in range(len(results['mean_fit_time'])):\n",
    "        if results['params'][i] == best_params:\n",
    "            print('Params: ', results['params'][i])\n",
    "            print('Mean score: ', results['mean_test_score'][i])\n",
    "            print()\n",
    "\n",
    "            return\n",
    "\n",
    "# Ensemble Machine Learning Approach\n",
    "# https://www.datacamp.com/community/tutorials/adaboost-classifier-python?utm_source=adwords_ppc&utm_medium=cpc&utm_campaignid=14989519638&utm_adgroupid=127836677279&utm_device=c&utm_keyword=&utm_matchtype=&utm_network=g&utm_adpostion=&utm_creative=278443377095&utm_targetid=dsa-429603003980&utm_loc_interest_ms=&utm_loc_physical_ms=9061060&gclid=CjwKCAiA_omPBhBBEiwAcg7smbQQMeHghK-VyfEArRtCwA53E1PErY_NcMUYp7qCJNy_hRerXLHf9RoC4aUQAvD_BwE\n",
    "\n",
    "from sklearn.ensemble import AdaBoostClassifier\n",
    "from sklearn.svm import SVC\n",
    "\n",
    "# svc=SVC(probability=True, kernel='linear')\n",
    "\n",
    "    # {\n",
    "    #     'model': KNeighborsClassifier(),\n",
    "    #     'hyperparams': {\n",
    "    #         'n_neighbors': range(16, 20, 1),\n",
    "    #         'n_jobs': range(4, 5, 1),\n",
    "    #         'leaf_size': range(25, 29, 1)\n",
    "    #     }\n",
    "    # },\n",
    "    # {\n",
    "    #     'model': DecisionTreeClassifier(),\n",
    "    #     'hyperparams': {\n",
    "    #         'max_depth': [1, 2, 3, 4, 5]\n",
    "    #     }\n",
    "    # },\n",
    "    # {\n",
    "    #     'model': LogisticRegression(solver='liblinear'),\n",
    "    #     'hyperparams': {\n",
    "    #         'penalty': ['l1', 'l2'],\n",
    "    #         'C': [0.7, 0.8, 0.9, 1]\n",
    "    #     }\n",
    "    # },\n",
    "    # {\n",
    "    #     'model': RandomForestClassifier(),\n",
    "    #     'hyperparams': {\n",
    "    #         'n_estimators': range(500, 700, 50),\n",
    "    #         'n_jobs': range(4, 5, 1),\n",
    "    #         'max_depth': range(3, 6, 1)\n",
    "    #     }\n",
    "    # },\n",
    "    # {\n",
    "    #     'model': RandomForestClassifier(n_jobs=4, max_features='auto', bootstrap=False),\n",
    "    #     'hyperparams': {\n",
    "    #         'n_estimators': range(40, 46, 1),\n",
    "    #         'max_depth': range(4, 7, 1)\n",
    "    #     }\n",
    "    # },\n",
    "\n",
    "    # Params:  {'criterion': 'gini', 'max_depth': 8, 'n_estimators': 200, 'n_jobs': 4}\n",
    "    # Mean score:  0.7852272727272728\n",
    "    # {\n",
    "    #     'model': RandomForestClassifier(n_jobs=4, max_features=\"auto\", bootstrap=False),\n",
    "    #     'hyperparams': {\n",
    "    #         'criterion' :['gini', 'entropy'],\n",
    "    #         'n_estimators': range(100, 300, 50),\n",
    "    #         'n_jobs': range(4, 5, 1),\n",
    "    #         'max_depth': range(6, 9, 1)\n",
    "    #     }\n",
    "    # },\n",
    "    # {\n",
    "    #     'model': GradientBoostingClassifier(),\n",
    "    #     'hyperparams': {\n",
    "    #         'n_estimators': range(150, 300, 50),\n",
    "    #         'learning_rate': np.arange(0.01, 0.03, 0.005),\n",
    "    #         'max_depth': range(3, 6, 1)\n",
    "    #     }\n",
    "    # },\n",
    "\n",
    "    # Mean score:  0.7791666666666666\n",
    "    # {\n",
    "    #     'model': GradientBoostingClassifier(),\n",
    "    #     'hyperparams': {\n",
    "    #         'n_estimators': range(250, 800, 50),\n",
    "    #         'learning_rate': np.arange(0.02, 0.05, 0.005),\n",
    "    #         'max_depth': range(3, 6, 1)\n",
    "    #     }\n",
    "    # },\n",
    "\n",
    "    # Params:  {'learning_rate': 0.025, 'max_depth': 4, 'n_estimators': 700}\n",
    "    # Mean score:  0.8287878787878789\n",
    "    # {\n",
    "    #     'model': GradientBoostingClassifier(random_state=0, max_features=\"auto\"),\n",
    "    #     'hyperparams': {\n",
    "    #         'n_estimators': range(250, 800, 50),\n",
    "    #         'learning_rate': np.arange(0.02, 0.05, 0.005),\n",
    "    #         'max_depth': range(3, 6, 1)\n",
    "    #     }\n",
    "    # },\n",
    "\n",
    "\n",
    "params = [\n",
    "    #     Params:  {'criterion': 'friedman_mse', 'learning_rate': 0.025, 'max_depth': 4, 'n_estimators': 700}\n",
    "    # Mean score:  0.8287878787878789    # {\n",
    "    #     'model': GradientBoostingClassifier(random_state=0, max_features=\"auto\"),\n",
    "    #     'hyperparams': {\n",
    "    #         'criterion': ['friedman_mse', 'mse', 'mae'],\n",
    "    #         'n_estimators': range(250, 800, 50),\n",
    "    #         'learning_rate': np.arange(0.02, 0.05, 0.005),\n",
    "    #         'max_depth': range(3, 6, 1)\n",
    "    #     }\n",
    "    # },\n",
    "\n",
    "    # Params:  {'learning_rate': 0.02, 'n_estimators': 300}\n",
    "    # Mean score:  0.7793560606060606    {\n",
    "    #     'model': AdaBoostClassifier(),\n",
    "    #     'hyperparams': {\n",
    "    #         'n_estimators': range(250, 800, 50),\n",
    "    #         'learning_rate': np.arange(0.02, 0.05, 0.005)\n",
    "    #     }\n",
    "    # },\n",
    "    # https://www.datacamp.com/community/tutorials/adaboost-classifier-python?utm_source=adwords_ppc&utm_medium=cpc&utm_campaignid=14989519638&utm_adgroupid=127836677279&utm_device=c&utm_keyword=&utm_matchtype=&utm_network=g&utm_adpostion=&utm_creative=278443377095&utm_targetid=dsa-429603003980&utm_loc_interest_ms=&utm_loc_physical_ms=9061060&gclid=CjwKCAiA_omPBhBBEiwAcg7smbQQMeHghK-VyfEArRtCwA53E1PErY_NcMUYp7qCJNy_hRerXLHf9RoC4aUQAvD_BwE\n",
    "    # {\n",
    "    #     'model': AdaBoostClassifier(base_estimator=svc),\n",
    "    #     'hyperparams': {\n",
    "    #         'n_estimators': range(250, 800, 50),\n",
    "    #         'learning_rate': np.arange(0.02, 0.05, 0.005),\n",
    "    #         'algorithm': ['SAMME', 'SAMME.R']\n",
    "    #     }\n",
    "    # }\n",
    "    # {\n",
    "    #     'model': XGBClassifier(eval_metric='logloss', use_label_encoder=False),\n",
    "    #     'hyperparams': {\n",
    "    #         'n_estimators': range(100, 400, 50),\n",
    "    #         'learning_rate': np.arange(0.04, 0.07, 0.01),\n",
    "    #         'max_depth': range(7, 10, 1)\n",
    "    #     }\n",
    "    # }\n",
    "    # Params:  {'learning_rate': 0.025, 'max_depth': 4, 'n_estimators': 700, 'validation_fraction': 0.2}\n",
    "    # Mean score:  0.8287878787878789\n",
    "    # {\n",
    "    #     'model': GradientBoostingClassifier(criterion='friedman_mse', random_state=0, max_features=\"auto\"),\n",
    "    #     'hyperparams': {\n",
    "    #         'validation_fraction': np.arange(0.2, 1, 0.5),\n",
    "    #         'n_estimators': range(650, 900, 50),\n",
    "    #         'learning_rate': np.arange(0.02, 0.035, 0.005),\n",
    "    #         'max_depth': range(3, 6, 1)\n",
    "    #     }\n",
    "    # },\n",
    "    # Model:  SVC\n",
    "    # Params:  {'C': 0.1, 'decision_function_shape': 'ovo', 'kernel': 'linear', 'max_iter': -0.1, 'shrinking': True}\n",
    "    # Mean score:  0.66875\n",
    "    # {\n",
    "    #     'model': SVC(probability=True, kernel='linear'),\n",
    "    #     'hyperparams': {\n",
    "    #         'max_iter': [-0.1, 0.1, 0.2],\n",
    "    #         'decision_function_shape': ['ovo', 'ovr'],\n",
    "    #         'shrinking': [True, False],\n",
    "    #         'kernel': ['linear', 'poly', 'rbf', 'sigmoid'],\n",
    "    #         'C': [0.1, 0.5, 1]\n",
    "    #     }\n",
    "    # },\n",
    "    # Model:  GradientBoostingClassifier\n",
    "    # Params:  {'learning_rate': 0.019999999999999997, 'max_depth': 4, 'n_estimators': 1150, 'validation_fraction': 0.15000000000000002}\n",
    "    # Mean score:  0.8287878787878789\n",
    "    # {\n",
    "    #     'model': GradientBoostingClassifier(),\n",
    "    #     'hyperparams': {\n",
    "    #         'validation_fraction': np.arange(0.05, 0.3, 0.05),\n",
    "    #         'n_estimators': range(850, 1200, 50),\n",
    "    #         'learning_rate': np.arange(0.01, 0.03, 0.005),\n",
    "    #         'max_depth': range(3, 6, 1)\n",
    "    #     }\n",
    "    # }\n",
    "    # Model:  GradientBoostingClassifier\n",
    "    # Params:  {'learning_rate': 0.01, 'max_depth': 4, 'n_estimators': 1500}\n",
    "    # Mean score:  0.8287878787878789\n",
    "    {\n",
    "        'model': GradientBoostingClassifier(validation_fraction=0.15),\n",
    "        'hyperparams': {\n",
    "            'n_estimators': range(1200, 1700, 50),\n",
    "            'learning_rate': np.arange(0.005, 0.02, 0.005),\n",
    "            'max_depth': range(3, 6, 1)\n",
    "        }\n",
    "    },\n",
    "    # {'learning_rate': 0.02, 'max_depth': 4, 'n_estimators': 350}\n",
    "    # 0.8225378787878789\n",
    "    {\n",
    "        'model': GradientBoostingClassifier(random_state=0, max_features=\"auto\", criterion='friedman_mse'),\n",
    "        'hyperparams': {\n",
    "            'n_estimators': range(250, 400, 50),\n",
    "            'learning_rate': np.arange(0.02, 0.05, 0.005),\n",
    "            'max_depth': range(4, 7, 1)\n",
    "        }\n",
    "    }\n",
    "]\n",
    "\n",
    "grid_model = {}\n",
    "\n",
    "for p in params:\n",
    "    print(get_model_name(p['model']))\n",
    "    grid_model = GridSearchCV(p['model'], p['hyperparams'], cv=5, n_jobs=4, return_train_score=True, scoring='accuracy', verbose=1)\n",
    "    grid_model.fit(X_train, y_train)\n",
    "    # print_gridcv_results(grid_model, p['model'])\n",
    "    print(grid_model.best_params_)\n",
    "    print(grid_model.best_score_)\n",
    "\n",
    "print('Done.')"
   ]
  },
  {
   "cell_type": "code",
   "execution_count": 362,
   "id": "930f604c",
   "metadata": {},
   "outputs": [
    {
     "name": "stdout",
     "output_type": "stream",
     "text": [
      "Accuracy score:  0.7560975609756098\n",
      "Accuracy count:  31\n",
      "Precision score:  0.8148148148148148\n",
      "Recall score:  0.8148148148148148\n",
      "\n"
     ]
    }
   ],
   "source": [
    "# Best performing model along with its hyperparams\n",
    "# Model:  GradientBoostingClassifier\n",
    "# Params:  {'learning_rate': 0.019999999999999997, 'max_depth': 4, 'n_estimators': 250}\n",
    "# Mean score:  0.8300712690139346\n",
    "\n",
    "# After choosing the best model along with its hyperparams, we do predictions on test data.\n",
    "model = GradientBoostingClassifier(learning_rate=0.01, max_depth=4, n_estimators=1500)\n",
    "model.fit(X_train, y_train)\n",
    "y_pred = model.predict(X_valid)\n",
    "\n",
    "print('Accuracy score: ', accuracy_score(y_valid, y_pred, normalize=True))\n",
    "# number of correct predictions\n",
    "print('Accuracy count: ', accuracy_score(y_valid, y_pred, normalize=False))\n",
    "print('Precision score: ', precision_score(y_valid, y_pred))\n",
    "print('Recall score: ', recall_score(y_valid, y_pred))\n",
    "print()"
   ]
  },
  {
   "cell_type": "code",
   "execution_count": 363,
   "id": "c21dc002",
   "metadata": {},
   "outputs": [],
   "source": [
    "\n",
    "# HYPERPARAMS TUNING SUMMARY\n"
   ]
  },
  {
   "cell_type": "code",
   "execution_count": 364,
   "id": "5bf43ced",
   "metadata": {},
   "outputs": [
    {
     "name": "stdout",
     "output_type": "stream",
     "text": [
      "[1 1 1 1 1 1 1 1 1 1 0 1 0 1 1 0 1 0 1 0 1 0 1 1 1 0 1 1 1 1 1 0 0 0 1 1 1\n",
      " 0 0 1 1 0 1 1 1 0 1 0 1 1 1 1 1 1 0 1 1 1 0 0 0 0 1 1 0 1 1 0 0 1 1 0 1 1\n",
      " 0 1 1 1 0 1 0 0 1 1 1 1 0 0 0 1 1]\n"
     ]
    }
   ],
   "source": [
    "# As we can see hyperparams chosen in both methods are different, so are the results.\n",
    "# Hyperparams chosen in Method 1 perform better: at 86% of accuracy (against 83%), \n",
    "# therefore they should be used in final data prediction and submission.\n",
    "\n",
    "y_pred = model.predict(XTEST)\n",
    "# print_summary(y_valid, y_pred)\n",
    "print(y_pred)"
   ]
  }
 ],
 "metadata": {
  "kernelspec": {
   "display_name": "Python 3 (ipykernel)",
   "language": "python",
   "name": "python3"
  },
  "language_info": {
   "codemirror_mode": {
    "name": "ipython",
    "version": 3
   },
   "file_extension": ".py",
   "mimetype": "text/x-python",
   "name": "python",
   "nbconvert_exporter": "python",
   "pygments_lexer": "ipython3",
   "version": "3.9.7"
  }
 },
 "nbformat": 4,
 "nbformat_minor": 5
}