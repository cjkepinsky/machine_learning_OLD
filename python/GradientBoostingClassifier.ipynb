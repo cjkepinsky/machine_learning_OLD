{
 "cells": [
  {
   "cell_type": "code",
   "execution_count": 1,
   "outputs": [],
   "source": [
    "import pandas as pd\n",
    "import libs.simple_processing as pds\n",
    "from sklearn.ensemble import GradientBoostingClassifier\n",
    "import numpy as np\n",
    "import re\n",
    "\n",
    "# https://www.kaggle.com/alexisbcook/titanic-tutorial\n",
    "# https://www.kaggle.com/startupsci/titanic-data-science-solutions/notebook"
   ],
   "metadata": {
    "collapsed": false,
    "pycharm": {
     "name": "#%%\n"
    }
   }
  },
  {
   "cell_type": "code",
   "execution_count": 2,
   "outputs": [
    {
     "name": "stdout",
     "output_type": "stream",
     "text": [
      "<class 'pandas.core.frame.DataFrame'>\n",
      "RangeIndex: 891 entries, 0 to 890\n",
      "Data columns (total 12 columns):\n",
      " #   Column       Non-Null Count  Dtype  \n",
      "---  ------       --------------  -----  \n",
      " 0   PassengerId  891 non-null    int64  \n",
      " 1   Survived     891 non-null    int64  \n",
      " 2   Pclass       891 non-null    int64  \n",
      " 3   Name         891 non-null    object \n",
      " 4   Sex          891 non-null    object \n",
      " 5   Age          714 non-null    float64\n",
      " 6   SibSp        891 non-null    int64  \n",
      " 7   Parch        891 non-null    int64  \n",
      " 8   Ticket       891 non-null    object \n",
      " 9   Fare         891 non-null    float64\n",
      " 10  Cabin        204 non-null    object \n",
      " 11  Embarked     889 non-null    object \n",
      "dtypes: float64(2), int64(5), object(5)\n",
      "memory usage: 83.7+ KB\n"
     ]
    }
   ],
   "source": [
    "results = {}\n",
    "# Read the data\n",
    "X = pd.read_csv('input/train.csv')\n",
    "X_test_full = pd.read_csv('input/test.csv')\n",
    "\n",
    "X.info()"
   ],
   "metadata": {
    "collapsed": false,
    "pycharm": {
     "name": "#%%\n"
    }
   }
  },
  {
   "cell_type": "code",
   "execution_count": 3,
   "outputs": [
    {
     "data": {
      "text/plain": "   PassengerId  Pclass   Age  SibSp  Parch     Fare  Sex_female  Sex_male  \\\n0          892       3  34.5      0      0   7.8292           0         1   \n1          893       3  47.0      1      0   7.0000           1         0   \n2          894       2  62.0      0      0   9.6875           0         1   \n3          895       3  27.0      0      0   8.6625           0         1   \n4          896       3  22.0      1      1  12.2875           1         0   \n\n   Embarked_C  Embarked_Q  ...  Surname_Widener  Surname_Wiklund  \\\n0           0           1  ...                0                0   \n1           0           0  ...                0                0   \n2           0           1  ...                0                0   \n3           0           0  ...                0                0   \n4           0           0  ...                0                0   \n\n   Surname_Wilhelms  Surname_Williams  Surname_Wright  Surname_Yarred  \\\n0                 0                 0               0               0   \n1                 0                 0               0               0   \n2                 0                 0               0               0   \n3                 0                 0               0               0   \n4                 0                 0               0               0   \n\n   Surname_Yasbeck  Surname_Young  Surname_Youseff  Surname_hoef  \n0                0              0                0             0  \n1                0              0                0             0  \n2                0              0                0             0  \n3                0              0                0             0  \n4                0              0                0             0  \n\n[5 rows x 455 columns]",
      "text/html": "<div>\n<style scoped>\n    .dataframe tbody tr th:only-of-type {\n        vertical-align: middle;\n    }\n\n    .dataframe tbody tr th {\n        vertical-align: top;\n    }\n\n    .dataframe thead th {\n        text-align: right;\n    }\n</style>\n<table border=\"1\" class=\"dataframe\">\n  <thead>\n    <tr style=\"text-align: right;\">\n      <th></th>\n      <th>PassengerId</th>\n      <th>Pclass</th>\n      <th>Age</th>\n      <th>SibSp</th>\n      <th>Parch</th>\n      <th>Fare</th>\n      <th>Sex_female</th>\n      <th>Sex_male</th>\n      <th>Embarked_C</th>\n      <th>Embarked_Q</th>\n      <th>...</th>\n      <th>Surname_Widener</th>\n      <th>Surname_Wiklund</th>\n      <th>Surname_Wilhelms</th>\n      <th>Surname_Williams</th>\n      <th>Surname_Wright</th>\n      <th>Surname_Yarred</th>\n      <th>Surname_Yasbeck</th>\n      <th>Surname_Young</th>\n      <th>Surname_Youseff</th>\n      <th>Surname_hoef</th>\n    </tr>\n  </thead>\n  <tbody>\n    <tr>\n      <th>0</th>\n      <td>892</td>\n      <td>3</td>\n      <td>34.5</td>\n      <td>0</td>\n      <td>0</td>\n      <td>7.8292</td>\n      <td>0</td>\n      <td>1</td>\n      <td>0</td>\n      <td>1</td>\n      <td>...</td>\n      <td>0</td>\n      <td>0</td>\n      <td>0</td>\n      <td>0</td>\n      <td>0</td>\n      <td>0</td>\n      <td>0</td>\n      <td>0</td>\n      <td>0</td>\n      <td>0</td>\n    </tr>\n    <tr>\n      <th>1</th>\n      <td>893</td>\n      <td>3</td>\n      <td>47.0</td>\n      <td>1</td>\n      <td>0</td>\n      <td>7.0000</td>\n      <td>1</td>\n      <td>0</td>\n      <td>0</td>\n      <td>0</td>\n      <td>...</td>\n      <td>0</td>\n      <td>0</td>\n      <td>0</td>\n      <td>0</td>\n      <td>0</td>\n      <td>0</td>\n      <td>0</td>\n      <td>0</td>\n      <td>0</td>\n      <td>0</td>\n    </tr>\n    <tr>\n      <th>2</th>\n      <td>894</td>\n      <td>2</td>\n      <td>62.0</td>\n      <td>0</td>\n      <td>0</td>\n      <td>9.6875</td>\n      <td>0</td>\n      <td>1</td>\n      <td>0</td>\n      <td>1</td>\n      <td>...</td>\n      <td>0</td>\n      <td>0</td>\n      <td>0</td>\n      <td>0</td>\n      <td>0</td>\n      <td>0</td>\n      <td>0</td>\n      <td>0</td>\n      <td>0</td>\n      <td>0</td>\n    </tr>\n    <tr>\n      <th>3</th>\n      <td>895</td>\n      <td>3</td>\n      <td>27.0</td>\n      <td>0</td>\n      <td>0</td>\n      <td>8.6625</td>\n      <td>0</td>\n      <td>1</td>\n      <td>0</td>\n      <td>0</td>\n      <td>...</td>\n      <td>0</td>\n      <td>0</td>\n      <td>0</td>\n      <td>0</td>\n      <td>0</td>\n      <td>0</td>\n      <td>0</td>\n      <td>0</td>\n      <td>0</td>\n      <td>0</td>\n    </tr>\n    <tr>\n      <th>4</th>\n      <td>896</td>\n      <td>3</td>\n      <td>22.0</td>\n      <td>1</td>\n      <td>1</td>\n      <td>12.2875</td>\n      <td>1</td>\n      <td>0</td>\n      <td>0</td>\n      <td>0</td>\n      <td>...</td>\n      <td>0</td>\n      <td>0</td>\n      <td>0</td>\n      <td>0</td>\n      <td>0</td>\n      <td>0</td>\n      <td>0</td>\n      <td>0</td>\n      <td>0</td>\n      <td>0</td>\n    </tr>\n  </tbody>\n</table>\n<p>5 rows × 455 columns</p>\n</div>"
     },
     "execution_count": 3,
     "metadata": {},
     "output_type": "execute_result"
    }
   ],
   "source": [
    "def get_surname(name):\n",
    "    reg = re.compile('([A-Za-z]+),')\n",
    "    return reg.findall(name)[0]\n",
    "\n",
    "\n",
    "def process_data(df):\n",
    "    df['Surname'] = df.apply(lambda row: get_surname(row['Name']), axis='columns')\n",
    "    df.drop(['Name', 'Cabin', 'Ticket'], axis='columns', inplace=True)\n",
    "    df.dropna(axis='index', subset=df.columns, inplace=True)\n",
    "\n",
    "    return df\n",
    "\n",
    "\n",
    "X = process_data(X)\n",
    "X_test_full = process_data(X_test_full)\n",
    "\n",
    "X, y = pds.separate_target(X, 'Survived')\n",
    "\n",
    "# Splitting into train and validation data\n",
    "train_perc = 0.8\n",
    "valid_perc = 0.2\n",
    "X_train_full, X_valid_full, y_train, y_valid = pds.split_train_test(X, y, train_perc, valid_perc)\n",
    "\n",
    "# converting categorical cols into numerical\n",
    "X_train, X_valid, X_test = pds.categorical_numerical_cols(X_train_full, X_valid_full, X_test_full)\n",
    "\n",
    "X_test.head()"
   ],
   "metadata": {
    "collapsed": false,
    "pycharm": {
     "name": "#%%\n"
    }
   }
  },
  {
   "cell_type": "code",
   "execution_count": 4,
   "outputs": [
    {
     "name": "stdout",
     "output_type": "stream",
     "text": [
      "0       892\n",
      "1       893\n",
      "2       894\n",
      "3       895\n",
      "4       896\n",
      "       ... \n",
      "409    1301\n",
      "411    1303\n",
      "412    1304\n",
      "414    1306\n",
      "415    1307\n",
      "Name: PassengerId, Length: 331, dtype: int64\n"
     ]
    }
   ],
   "source": [
    "PassengerColumn = X_test.PassengerId\n",
    "X_train.drop(['PassengerId'], axis='columns', inplace=True)\n",
    "X_valid.drop(['PassengerId'], axis='columns', inplace=True)\n",
    "X_test.drop(['PassengerId'], axis='columns', inplace=True)\n",
    "\n",
    "max_train = 0\n",
    "max_valid = 0\n",
    "max_est = 0\n",
    "max_lr = 0\n",
    "max_md = 0\n",
    "\n",
    "print(PassengerColumn)\n",
    "# print(X_train)\n",
    "# print(X_valid)"
   ],
   "metadata": {
    "collapsed": false,
    "pycharm": {
     "name": "#%%\n"
    }
   }
  },
  {
   "cell_type": "code",
   "execution_count": 5,
   "outputs": [],
   "source": [
    "# import seaborn as sns\n",
    "# import matplotlib.pyplot as plt\n",
    "# data_correlations = X_train.corr()\n",
    "# plt.subplots(figsize=(55, 55))\n",
    "# sns.heatmap(data_correlations, annot=True)"
   ],
   "metadata": {
    "collapsed": false,
    "pycharm": {
     "name": "#%%\n"
    }
   }
  },
  {
   "cell_type": "code",
   "execution_count": 6,
   "outputs": [
    {
     "name": "stdout",
     "output_type": "stream",
     "text": [
      "train_perc: 0.80 valid_perc: 0.20 est: 300 lr: 0.010 md: 5 => train data: 0.914 val data: 0.839\n",
      "train_perc: 0.80 valid_perc: 0.20 est: 300 lr: 0.010 md: 6 => train data: 0.919 val data: 0.846\n",
      "train_perc: 0.80 valid_perc: 0.20 est: 300 lr: 0.015 md: 5 => train data: 0.912 val data: 0.832\n",
      "train_perc: 0.80 valid_perc: 0.20 est: 300 lr: 0.015 md: 6 => train data: 0.984 val data: 0.846\n",
      "train_perc: 0.80 valid_perc: 0.20 est: 300 lr: 0.020 md: 5 => train data: 0.982 val data: 0.825\n",
      "train_perc: 0.80 valid_perc: 0.20 est: 300 lr: 0.020 md: 6 => train data: 0.986 val data: 0.839\n",
      "train_perc: 0.80 valid_perc: 0.20 est: 300 lr: 0.025 md: 5 => train data: 0.982 val data: 0.825\n",
      "train_perc: 0.80 valid_perc: 0.20 est: 300 lr: 0.025 md: 6 => train data: 0.991 val data: 0.839\n",
      "train_perc: 0.80 valid_perc: 0.20 est: 350 lr: 0.010 md: 5 => train data: 0.914 val data: 0.839\n",
      "train_perc: 0.80 valid_perc: 0.20 est: 350 lr: 0.010 md: 6 => train data: 0.935 val data: 0.839\n",
      "train_perc: 0.80 valid_perc: 0.20 est: 350 lr: 0.015 md: 5 => train data: 0.981 val data: 0.825\n",
      "train_perc: 0.80 valid_perc: 0.20 est: 350 lr: 0.015 md: 6 => train data: 0.984 val data: 0.846\n",
      "train_perc: 0.80 valid_perc: 0.20 est: 350 lr: 0.020 md: 5 => train data: 0.982 val data: 0.825\n",
      "train_perc: 0.80 valid_perc: 0.20 est: 350 lr: 0.020 md: 6 => train data: 0.988 val data: 0.839\n",
      "train_perc: 0.80 valid_perc: 0.20 est: 350 lr: 0.025 md: 5 => train data: 0.984 val data: 0.825\n",
      "train_perc: 0.80 valid_perc: 0.20 est: 350 lr: 0.025 md: 6 => train data: 0.991 val data: 0.839\n",
      "train_perc: 0.80 valid_perc: 0.20 est: 400 lr: 0.010 md: 5 => train data: 0.914 val data: 0.839\n",
      "train_perc: 0.80 valid_perc: 0.20 est: 400 lr: 0.010 md: 6 => train data: 0.961 val data: 0.839\n",
      "train_perc: 0.80 valid_perc: 0.20 est: 400 lr: 0.015 md: 5 => train data: 0.981 val data: 0.825\n",
      "train_perc: 0.80 valid_perc: 0.20 est: 400 lr: 0.015 md: 6 => train data: 0.986 val data: 0.846\n",
      "train_perc: 0.80 valid_perc: 0.20 est: 400 lr: 0.020 md: 5 => train data: 0.981 val data: 0.825\n",
      "train_perc: 0.80 valid_perc: 0.20 est: 400 lr: 0.020 md: 6 => train data: 0.991 val data: 0.846\n",
      "train_perc: 0.80 valid_perc: 0.20 est: 400 lr: 0.025 md: 5 => train data: 0.988 val data: 0.832\n",
      "train_perc: 0.80 valid_perc: 0.20 est: 400 lr: 0.025 md: 6 => train data: 0.991 val data: 0.832\n",
      "BEST: train_perc: 0.80 valid_perc: 0.20 est: 300 lr: 0.010 md: 6 => train data: 0.919 val data: 0.846\n"
     ]
    }
   ],
   "source": [
    "\n",
    "for i in range(300, 450, 50):\n",
    "    for lr in np.arange(0.01, 0.03, 0.005):\n",
    "        for md in range(5, 7, 1):\n",
    "            model = GradientBoostingClassifier(n_estimators=i, random_state=0, learning_rate=lr, max_depth=md)\n",
    "            model.fit(X_train, y_train)\n",
    "            train_score = model.score(X_train, y_train)\n",
    "            valid_score = model.score(X_valid, y_valid)\n",
    "            if valid_score > max_valid:\n",
    "                max_train = train_score\n",
    "                max_valid = valid_score\n",
    "                max_est = i\n",
    "                max_lr = lr\n",
    "                max_md = md\n",
    "\n",
    "            if valid_score > 0.82:\n",
    "                print('train_perc: {:.2f}' .format(train_perc) + ' valid_perc: {:.2f}' .format(valid_perc) + ' est: {:.0f}'.format(i) + ' lr: {:.3f}'.format(lr) + ' md: {:.0f}'.format(md)\n",
    "                      + ' => train data: {:.3f}'.format(train_score)\n",
    "                      + ' val data: {:.3f}'.format(valid_score))\n",
    "\n",
    "\n",
    "print('BEST: train_perc: {:.2f}' .format(train_perc) + ' valid_perc: {:.2f}' .format(valid_perc) + ' est: {:.0f}'.format(max_est) + ' lr: {:.3f}'.format(max_lr) + ' md: {:.0f}'.format(max_md)\n",
    "      + ' => train data: {:.3f}'.format(max_train)\n",
    "      + ' val data: {:.3f}'.format(max_valid))\n"
   ],
   "metadata": {
    "collapsed": false,
    "pycharm": {
     "name": "#%%\n"
    }
   }
  },
  {
   "cell_type": "code",
   "execution_count": 7,
   "outputs": [
    {
     "name": "stdout",
     "output_type": "stream",
     "text": [
      "Accuracy score:  0.8461538461538461\n",
      "Accuracy count:  121 / 143\n",
      "Precision score:  0.9148936170212766\n",
      "Recall score:  0.7049180327868853\n",
      "F1 score:  0.7962962962962963\n"
     ]
    }
   ],
   "source": [
    "# Accuracy score:  0.8391608391608392\n",
    "# model = GradientBoostingClassifier(n_estimators=350, random_state=0, learning_rate=0.02, max_depth=6)\n",
    "# Accuracy score:  0.8461538461538461\n",
    "from libs.simple_processing import print_scores\n",
    "\n",
    "winner = GradientBoostingClassifier(n_estimators=300, random_state=0, learning_rate=0.010, max_depth=6, max_features=\"auto\")\n",
    "# bez nazwisk\n",
    "# winner = GradientBoostingClassifier(n_estimators=400, random_state=0, learning_rate=0.025, max_depth=5, max_features=\"auto\")\n",
    "winner.fit(X_train, y_train)\n",
    "\n",
    "y_pred = winner.predict(X_valid)\n",
    "pd.DataFrame({'y_valid' : y_valid, 'y_pred': y_pred})\n",
    "\n",
    "print_scores(y_valid, y_pred)"
   ],
   "metadata": {
    "collapsed": false,
    "pycharm": {
     "name": "#%%\n"
    }
   }
  },
  {
   "cell_type": "markdown",
   "source": [
    "## ROC"
   ],
   "metadata": {
    "collapsed": false,
    "pycharm": {
     "name": "#%% md\n"
    }
   }
  },
  {
   "cell_type": "code",
   "execution_count": 8,
   "outputs": [
    {
     "data": {
      "text/plain": "<Figure size 432x288 with 1 Axes>",
      "image/png": "[encoded data removed]"
     },
     "metadata": {
      "needs_background": "light"
     },
     "output_type": "display_data"
    }
   ],
   "source": [
    "import libs.simpleplotter as plot\n",
    "\n",
    "plot.simple_roc(y_valid, y_pred)"
   ],
   "metadata": {
    "collapsed": false,
    "pycharm": {
     "name": "#%%\n"
    }
   }
  },
  {
   "cell_type": "code",
   "execution_count": null,
   "outputs": [],
   "source": [
    "from libs.simpleplotter import receiver_operating_characteristics\n",
    "\n",
    "receiver_operating_characteristics(X_train, y_train)"
   ],
   "metadata": {
    "collapsed": false,
    "pycharm": {
     "name": "#%%\n"
    }
   }
  },
  {
   "cell_type": "code",
   "execution_count": 9,
   "outputs": [
    {
     "data": {
      "text/plain": "<Figure size 432x288 with 2 Axes>",
      "image/png": "[encoded data removed]"
     },
     "metadata": {
      "needs_background": "light"
     },
     "output_type": "display_data"
    },
    {
     "data": {
      "text/plain": "array([[78,  4],\n       [18, 43]])"
     },
     "execution_count": 9,
     "metadata": {},
     "output_type": "execute_result"
    }
   ],
   "source": [
    "from libs.simpleplotter import simple_confusion_matrix\n",
    "\n",
    "simple_confusion_matrix(y_valid, y_pred, winner.classes_)"
   ],
   "metadata": {
    "collapsed": false,
    "pycharm": {
     "name": "#%%\n"
    }
   }
  },
  {
   "cell_type": "code",
   "execution_count": 10,
   "outputs": [
    {
     "data": {
      "text/plain": "     PassengerId  Survived\n0            892         0\n1            893         1\n2            894         0\n3            895         0\n4            896         0\n..           ...       ...\n326         1301         1\n327         1303         1\n328         1304         0\n329         1306         1\n330         1307         0\n\n[331 rows x 2 columns]",
      "text/html": "<div>\n<style scoped>\n    .dataframe tbody tr th:only-of-type {\n        vertical-align: middle;\n    }\n\n    .dataframe tbody tr th {\n        vertical-align: top;\n    }\n\n    .dataframe thead th {\n        text-align: right;\n    }\n</style>\n<table border=\"1\" class=\"dataframe\">\n  <thead>\n    <tr style=\"text-align: right;\">\n      <th></th>\n      <th>PassengerId</th>\n      <th>Survived</th>\n    </tr>\n  </thead>\n  <tbody>\n    <tr>\n      <th>0</th>\n      <td>892</td>\n      <td>0</td>\n    </tr>\n    <tr>\n      <th>1</th>\n      <td>893</td>\n      <td>1</td>\n    </tr>\n    <tr>\n      <th>2</th>\n      <td>894</td>\n      <td>0</td>\n    </tr>\n    <tr>\n      <th>3</th>\n      <td>895</td>\n      <td>0</td>\n    </tr>\n    <tr>\n      <th>4</th>\n      <td>896</td>\n      <td>0</td>\n    </tr>\n    <tr>\n      <th>...</th>\n      <td>...</td>\n      <td>...</td>\n    </tr>\n    <tr>\n      <th>326</th>\n      <td>1301</td>\n      <td>1</td>\n    </tr>\n    <tr>\n      <th>327</th>\n      <td>1303</td>\n      <td>1</td>\n    </tr>\n    <tr>\n      <th>328</th>\n      <td>1304</td>\n      <td>0</td>\n    </tr>\n    <tr>\n      <th>329</th>\n      <td>1306</td>\n      <td>1</td>\n    </tr>\n    <tr>\n      <th>330</th>\n      <td>1307</td>\n      <td>0</td>\n    </tr>\n  </tbody>\n</table>\n<p>331 rows × 2 columns</p>\n</div>"
     },
     "execution_count": 10,
     "metadata": {},
     "output_type": "execute_result"
    }
   ],
   "source": [
    "y_test = winner.predict(X_test)\n",
    "output = pd.DataFrame({'PassengerId': PassengerColumn, 'Survived': y_test})\n",
    "output.to_csv('./submission.csv', index=False)\n",
    "SUBMISSION = pd.read_csv(\"./submission.csv\")\n",
    "SUBMISSION"
   ],
   "metadata": {
    "collapsed": false,
    "pycharm": {
     "name": "#%%\n"
    }
   }
  },
  {
   "cell_type": "markdown",
   "source": [
    "Let's see which features were the most important for the training"
   ],
   "metadata": {
    "collapsed": false
   }
  },
  {
   "cell_type": "code",
   "execution_count": 11,
   "outputs": [],
   "source": [
    "labels = X_train.keys()\n",
    "labels_filtered = []\n",
    "importance_filtered = []\n",
    "importance_threshold = 0.005\n",
    "\n",
    "for index in range(len(winner.feature_importances_)):\n",
    "    if winner.feature_importances_[index] > importance_threshold:\n",
    "        labels_filtered.append(labels[index])\n",
    "        importance_filtered.append(winner.feature_importances_[index])\n"
   ],
   "metadata": {
    "collapsed": false,
    "pycharm": {
     "name": "#%%\n"
    }
   }
  },
  {
   "cell_type": "code",
   "execution_count": 12,
   "outputs": [
    {
     "data": {
      "text/plain": "<Figure size 432x288 with 1 Axes>",
      "image/png": "[encoded data removed]"
     },
     "metadata": {
      "needs_background": "light"
     },
     "output_type": "display_data"
    }
   ],
   "source": [
    "import matplotlib.pyplot as plt\n",
    "\n",
    "plt.barh(y=range(len(labels_filtered)), width=importance_filtered, align='center')\n",
    "plt.yticks(np.arange(len(labels_filtered)), labels_filtered)\n",
    "plt.xlabel(\"importance\")\n",
    "plt.ylabel(ylabel=\"feature\")\n",
    "plt.show()"
   ],
   "metadata": {
    "collapsed": false,
    "pycharm": {
     "name": "#%%\n"
    }
   }
  }
 ],
 "metadata": {
  "kernelspec": {
   "display_name": "Python 3",
   "language": "python",
   "name": "python3"
  },
  "language_info": {
   "codemirror_mode": {
    "name": "ipython",
    "version": 2
   },
   "file_extension": ".py",
   "mimetype": "text/x-python",
   "name": "python",
   "nbconvert_exporter": "python",
   "pygments_lexer": "ipython2",
   "version": "2.7.6"
  }
 },
 "nbformat": 4,
 "nbformat_minor": 0
}